{
 "nbformat": 4,
 "nbformat_minor": 0,
 "metadata": {
  "colab": {
   "provenance": []
  },
  "kernelspec": {
   "name": "python3",
   "display_name": "Python 3"
  },
  "language_info": {
   "name": "python"
  }
 },
 "cells": [
  {
   "cell_type": "markdown",
   "source": [
    "# Loss functions (and other things)"
   ],
   "metadata": {
    "id": "7rgahCbp7PUL",
    "pycharm": {
     "name": "#%% md\n"
    }
   }
  },
  {
   "cell_type": "code",
   "source": [
    "import matplotlib.pyplot as plt\n",
    "import numpy as np\n",
    "import torch\n",
    "from torch import nn"
   ],
   "metadata": {
    "id": "JodTqONy-1sv",
    "pycharm": {
     "name": "#%%\n"
    }
   },
   "execution_count": 1,
   "outputs": []
  },
  {
   "cell_type": "markdown",
   "source": [
    "## Cross Entropy loss\n",
    "\n",
    "also known as the log loss\n",
    "\n",
    "Cross Entropy Loss measures the difference between two probability distributions: the predicted probability distribution (output of the model) and the true probability distribution (ground truth labels). It is widely used for classification tasks.\n",
    "\n",
    "**When to use:**\n",
    "\n",
    "- For classification tasks where the output is a probability distribution over classes (e.g., sentiment analysis, text classification).\n",
    "\n",
    "- Commonly used in training LLMs for next-token prediction (e.g., GPT models)."
   ],
   "metadata": {
    "id": "4pT_KRXEE9DG",
    "pycharm": {
     "name": "#%% md\n"
    }
   }
  },
  {
   "cell_type": "markdown",
   "source": [
    "### Entropy\n",
    "\n",
    "Entropy measures the uncertainty or randomness in a probability distribution. It is not a loss function itself but is related to Cross Entropy Loss.\n",
    "\n",
    "**When to use:**\n",
    "\n",
    "- Used to analyze the uncertainty in model predictions.\n",
    "\n",
    "- Can be used in tasks like active learning, where you want to select uncertain samples for labeling."
   ],
   "metadata": {
    "id": "RcrDpfmSATPx",
    "pycharm": {
     "name": "#%% md\n"
    }
   }
  },
  {
   "cell_type": "markdown",
   "source": [
    "Entropy measures uncertainty in a probability distribution:\n",
    "\n",
    "$$H(P) = - \\sum_x P(x) \\log P(x)$$"
   ],
   "metadata": {
    "id": "NO9XQCj5ATXl",
    "pycharm": {
     "name": "#%% md\n"
    }
   }
  },
  {
   "cell_type": "code",
   "source": [
    "def calculate_entropy(p):\n",
    "    return -np.sum(p * np.log(p))"
   ],
   "metadata": {
    "id": "JDyZWu7WAsts",
    "pycharm": {
     "name": "#%%\n"
    }
   },
   "execution_count": 2,
   "outputs": []
  },
  {
   "cell_type": "code",
   "source": [
    "# Binary distribution\n",
    "p = np.array([0.5, 0.5])\n",
    "print(f\"Entropy: {calculate_entropy(p):.4f}\")"
   ],
   "metadata": {
    "colab": {
     "base_uri": "https://localhost:8080/"
    },
    "id": "w61kewbBAuGF",
    "outputId": "d45bfdb9-5c59-4441-fe08-c8bd7845d21d",
    "pycharm": {
     "name": "#%%\n"
    }
   },
   "execution_count": 3,
   "outputs": [
    {
     "name": "stdout",
     "output_type": "stream",
     "text": [
      "Entropy: 0.6931\n"
     ]
    }
   ]
  },
  {
   "cell_type": "code",
   "source": [
    "# Visualization\n",
    "x = np.linspace(0.01, 0.99, 100)\n",
    "entropies = [calculate_entropy([x_i, 1 - x_i]) for x_i in x]\n",
    "\n",
    "plt.plot(x, entropies)\n",
    "plt.title(\"Entropy of Binary Distribution\")\n",
    "plt.xlabel(\"P(x = 1)\")\n",
    "plt.ylabel(\"Entropy\")\n",
    "plt.show()"
   ],
   "metadata": {
    "colab": {
     "base_uri": "https://localhost:8080/",
     "height": 472
    },
    "id": "ZydUI7Y6AmEb",
    "outputId": "76d0fe44-a49a-4b8e-8d77-eeeb35206996",
    "pycharm": {
     "name": "#%%\n"
    }
   },
   "execution_count": 4,
   "outputs": [
    {
     "data": {
      "text/plain": "<Figure size 640x480 with 1 Axes>",
      "image/png": "[encoded data removed]"
     },
     "metadata": {},
     "output_type": "display_data"
    }
   ]
  },
  {
   "cell_type": "markdown",
   "source": [
    "### KL Divergence\n",
    "\n",
    "KL Divergence measures how one probability distribution diverges from a reference distribution. It is a non-symmetric measure.\n",
    "\n",
    "**When to use:**\n",
    "\n",
    "- For tasks where you want to compare two probability distributions (e.g., in variational inference, reinforcement learning, or fine-tuning LLMs).\n",
    "\n",
    "- Used in models like Variational Autoencoders (VAEs) or when aligning model outputs with a target distribution."
   ],
   "metadata": {
    "id": "foRpc0W--ktW",
    "pycharm": {
     "name": "#%% md\n"
    }
   }
  },
  {
   "cell_type": "markdown",
   "source": [
    "KL divergence measures how one probability distribution $Q$ diverges from a reference distribution $P$:\n",
    "\n",
    "$$ D_{KL}(P||Q) = \\sum_{x} P(x) \\log \\frac{P(x)}{Q(x)} $$"
   ],
   "metadata": {
    "id": "lyQb60mM-saV",
    "pycharm": {
     "name": "#%% md\n"
    }
   }
  },
  {
   "cell_type": "code",
   "execution_count": 5,
   "outputs": [],
   "source": [
    "def kl_divergence(p, q):\n",
    "    return np.sum(p * np.log(p / q))"
   ],
   "metadata": {
    "pycharm": {
     "name": "#%%\n"
    },
    "id": "iupZz66Ym-Xq"
   }
  },
  {
   "cell_type": "code",
   "execution_count": 6,
   "outputs": [
    {
     "name": "stdout",
     "output_type": "stream",
     "text": [
      "KL(P||Q): 0.0458\n"
     ]
    }
   ],
   "source": [
    "# Example distributions\n",
    "p = np.array([0.1, 0.4, 0.5])\n",
    "q = np.array([0.2, 0.3, 0.5])\n",
    "\n",
    "print(f\"KL(P||Q): {kl_divergence(p, q):.4f}\")"
   ],
   "metadata": {
    "pycharm": {
     "name": "#%%\n"
    },
    "colab": {
     "base_uri": "https://localhost:8080/"
    },
    "id": "ehMk0t4mm-Xq",
    "outputId": "92639128-17e0-4c87-defd-cc84ef22553b"
   }
  },
  {
   "cell_type": "code",
   "execution_count": 7,
   "outputs": [
    {
     "data": {
      "text/plain": "<Figure size 640x480 with 1 Axes>",
      "image/png": "[encoded data removed]"
     },
     "metadata": {},
     "output_type": "display_data"
    }
   ],
   "source": [
    "P_X = 0.3  # play with prob\n",
    "x = np.linspace(0.01, 0.99, 100)\n",
    "kl_values = [\n",
    "    kl_divergence(np.array([P_X, 1 - P_X]), np.array([x_val, 1 - x_val]))\n",
    "    for x_val in x\n",
    "]\n",
    "\n",
    "plt.plot(x, kl_values)\n",
    "plt.title(f\"KL(P:=[{P_X}, {1 - P_X}] || Q)\")\n",
    "plt.xlabel(\"Q(x = 1)\")\n",
    "plt.ylabel(\"KL Divergence\")\n",
    "plt.show()"
   ],
   "metadata": {
    "pycharm": {
     "name": "#%%\n"
    },
    "colab": {
     "base_uri": "https://localhost:8080/",
     "height": 472
    },
    "id": "DOkof0vnm-Xq",
    "outputId": "f466862d-e6b0-45d7-a0c8-c2f2d4d29045"
   }
  },
  {
   "cell_type": "markdown",
   "source": [
    "### Cross Entropy"
   ],
   "metadata": {
    "id": "XVzUzkvI_Fz-",
    "pycharm": {
     "name": "#%% md\n"
    }
   }
  },
  {
   "cell_type": "markdown",
   "source": [
    "Cross Entropy combines entropy and KL divergence:\n",
    "\n",
    "$$H(P,Q) = H(P) + D_{KL}(P||Q) = -\\sum_x P(x) logQ(x)$$"
   ],
   "metadata": {
    "id": "0Gmbj1iICYU_",
    "pycharm": {
     "name": "#%% md\n"
    }
   }
  },
  {
   "cell_type": "markdown",
   "source": [
    "### Binary CE Loss\n",
    "\n",
    "A special case of Cross Entropy Loss for binary classification tasks, where there are only two classes (e.g., 0 or 1).\n",
    "\n",
    "**When to use:**\n",
    "\n",
    "For binary classification tasks (e.g., spam detection, sentiment analysis with positive/negative labels)."
   ],
   "metadata": {
    "id": "jIsO1NFz7jY7",
    "pycharm": {
     "name": "#%% md\n"
    }
   }
  },
  {
   "cell_type": "markdown",
   "source": [
    "$$\n",
    "L = - \\left[ y \\log p + (1 - y) \\log(1 - p) \\right]\n",
    "$$"
   ],
   "metadata": {
    "id": "_hMWWYf-7RxY",
    "pycharm": {
     "name": "#%% md\n"
    }
   }
  },
  {
   "cell_type": "code",
   "source": [
    "y_true = np.array([1, 0, 1, 1])\n",
    "y_pred = np.array([0.1, 0.1, 0.8, 0.7])\n",
    "\n",
    "# Manual calculation\n",
    "loss = -np.mean(y_true * np.log(y_pred) + (1 - y_true) * np.log(1 - y_pred))\n",
    "print(f\"Manual Loss: {loss:.4f}\")"
   ],
   "metadata": {
    "colab": {
     "base_uri": "https://localhost:8080/"
    },
    "id": "ISC1yhrVEEsG",
    "outputId": "ed7e17cd-20bb-4009-88ad-7f77e76dd953",
    "pycharm": {
     "name": "#%%\n"
    }
   },
   "execution_count": 8,
   "outputs": [
    {
     "name": "stdout",
     "output_type": "stream",
     "text": [
      "Manual Loss: 0.7469\n"
     ]
    }
   ]
  },
  {
   "cell_type": "markdown",
   "source": [
    "### Multilabel CE loss\n",
    "\n",
    "An extension of Cross Entropy Loss for multilabel classification, where each input can belong to multiple classes simultaneously.\n",
    "\n",
    "**When to use:**\n",
    "\n",
    "For tasks where each input can have multiple labels (e.g., topic classification, where a document can belong to multiple topics)."
   ],
   "metadata": {
    "id": "FTLe3aKWFR9q",
    "pycharm": {
     "name": "#%% md\n"
    }
   }
  },
  {
   "cell_type": "markdown",
   "source": [
    "$$\n",
    "L = - \\sum_{c=1}^C y_c \\log p_c\n",
    "$$"
   ],
   "metadata": {
    "id": "T_zp4dLuEE5M",
    "pycharm": {
     "name": "#%% md\n"
    }
   }
  },
  {
   "cell_type": "code",
   "source": [
    "logits = torch.tensor([[2.0, 1.0, 0.1]])  # model predictions\n",
    "labels = torch.tensor([2])  # true label"
   ],
   "metadata": {
    "id": "KYJJSahO8PMt",
    "pycharm": {
     "name": "#%%\n"
    }
   },
   "execution_count": 9,
   "outputs": []
  },
  {
   "cell_type": "code",
   "source": [
    "# PyTorch CrossEntropyLoss combine softmax and CE loss\n",
    "loss_fn = nn.CrossEntropyLoss()\n",
    "loss = loss_fn(logits, labels)\n",
    "print(f\"Cross Entropy Loss: {loss.item():.4f}\")"
   ],
   "metadata": {
    "colab": {
     "base_uri": "https://localhost:8080/"
    },
    "id": "bbkujgcN9-vl",
    "outputId": "b8358384-63eb-4905-81d1-77631cd4882e",
    "pycharm": {
     "name": "#%%\n"
    }
   },
   "execution_count": 10,
   "outputs": [
    {
     "name": "stdout",
     "output_type": "stream",
     "text": [
      "Cross Entropy Loss: 2.3170\n"
     ]
    }
   ]
  },
  {
   "cell_type": "markdown",
   "source": [
    "## Triplet loss\n",
    "\n",
    "Triplet Loss is used to learn embeddings by comparing an anchor, a positive sample (similar to the anchor), and a negative sample (dissimilar to the anchor). The goal is to minimize the distance between the anchor and the positive while maximizing the distance between the anchor and the negative.\n",
    "\n",
    "**When to use:**\n",
    "\n",
    "- For tasks requiring similarity learning or representation learning (e.g., sentence similarity, paraphrase detection, or recommendation systems).\n",
    "\n",
    "- Used in models like Siamese networks or contrastive learning frameworks."
   ],
   "metadata": {
    "id": "ZolKuU7TFf2Y",
    "pycharm": {
     "name": "#%% md\n"
    }
   }
  },
  {
   "cell_type": "markdown",
   "source": [
    "Triplet loss is used to learn embeddings where the *anchor* is closer to the *positive* sample than the *negative* by a margin:\n",
    "\n",
    "$$ L = \\max(d(a,p) - d(a,n) + margin, 0)$$"
   ],
   "metadata": {
    "id": "BdDmrRLjGoFg",
    "pycharm": {
     "name": "#%% md\n"
    }
   }
  },
  {
   "cell_type": "markdown",
   "source": [
    "### Bi- and Cross-Encoder"
   ],
   "metadata": {
    "id": "9J5scStMHsqx",
    "pycharm": {
     "name": "#%% md\n"
    }
   }
  },
  {
   "cell_type": "markdown",
   "source": [
    "![](https://raw.githubusercontent.com/lwtztea/ml_pic/9211f0d/week_5/Bi_vs_Cross-Encoder.png)"
   ],
   "metadata": {
    "id": "5_hxi2hcHypn",
    "pycharm": {
     "name": "#%% md\n"
    }
   }
  },
  {
   "cell_type": "markdown",
   "source": [
    "**Bi-Encoders** produce for a given sentence a sentence embedding. We pass to a BERT independently the sentences A and B, which result in the sentence embeddings u and v. These sentence embedding can then be compared using cosine similarity.\n",
    "\n",
    "In **Cross-Encoder**, we pass both sentences simultaneously to the Transformer network. It produces then an output value between 0 and 1 indicating the similarity of the input sentence pair."
   ],
   "metadata": {
    "id": "ql_wrG4-IMN7",
    "pycharm": {
     "name": "#%% md\n"
    }
   }
  }
 ]
}