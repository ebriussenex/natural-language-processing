{
 "nbformat": 4,
 "nbformat_minor": 0,
 "metadata": {
  "colab": {
   "provenance": []
  },
  "kernelspec": {
   "name": "python3",
   "display_name": "Python 3"
  },
  "language_info": {
   "name": "python"
  }
 },
 "cells": [
  {
   "cell_type": "markdown",
   "source": [
    "# Introduction to Text Generation Parameters"
   ],
   "metadata": {
    "id": "ayjzQnpvNHWx",
    "pycharm": {
     "name": "#%% md\n"
    }
   }
  },
  {
   "cell_type": "markdown",
   "source": [
    "## Theory"
   ],
   "metadata": {
    "id": "epNajaqgOF4l",
    "pycharm": {
     "name": "#%% md\n"
    }
   }
  },
  {
   "cell_type": "markdown",
   "source": [
    "**Temperature**  controls randomness in predictions (low=temporary, high=creative)\n",
    "\n",
    "**Decoding Strategies** are the methods for sampling from probability distributions\n",
    "- Greedy Search: chooses a token with the highest probability\n",
    "- Beam-search: keeps several hypotheses at each time step and eventually chooses the hypothesis that has the overall highest probability for the entire sequence\n",
    "- Multinomial sampling: randomly selects the next token based on the probability distribution over the entire vocabulary\n",
    "\n",
    "**Decoding params:**\n",
    "- Top-k: limits to k highest probability tokens\n",
    "- Top-p: limits to tokens comprising top p probability mass\n",
    "\n",
    "https://huggingface.co/docs/transformers/generation_strategies\n"
   ],
   "metadata": {
    "id": "S8WaUC90NPjF",
    "pycharm": {
     "name": "#%% md\n"
    }
   }
  },
  {
   "cell_type": "markdown",
   "source": [
    "<img src = https://raw.githubusercontent.com/lwtztea/ml_pic/9211f0d/week_5/token_generation.png width = 1000 >"
   ],
   "metadata": {
    "id": "PCAYDIxTUhp3",
    "pycharm": {
     "name": "#%% md\n"
    }
   }
  },
  {
   "cell_type": "markdown",
   "source": [
    "<img src = https://raw.githubusercontent.com/lwtztea/ml_pic/9211f0d/week_5/temperature.png width = 700 >"
   ],
   "metadata": {
    "id": "w1aQ5jgCVCQ-",
    "pycharm": {
     "name": "#%% md\n"
    }
   }
  },
  {
   "cell_type": "markdown",
   "source": [
    "## Practice"
   ],
   "metadata": {
    "id": "EkUuFgCiOIZU",
    "pycharm": {
     "name": "#%% md\n"
    }
   }
  },
  {
   "cell_type": "code",
   "execution_count": 1,
   "metadata": {
    "id": "5FhADcNGJn6H",
    "pycharm": {
     "name": "#%%\n"
    }
   },
   "outputs": [],
   "source": [
    "import matplotlib.pyplot as plt\n",
    "import torch\n",
    "from transformers import GPT2LMHeadModel, GPT2Tokenizer"
   ]
  },
  {
   "cell_type": "code",
   "source": [
    "MODEL_NAME = \"gpt2\"\n",
    "model = GPT2LMHeadModel.from_pretrained(MODEL_NAME)\n",
    "tokenizer = GPT2Tokenizer.from_pretrained(MODEL_NAME)\n",
    "device = torch.device(\"cuda\" if torch.cuda.is_available() else \"cpu\")\n",
    "model.to(device)"
   ],
   "metadata": {
    "id": "V80U3YQTKIPn",
    "pycharm": {
     "name": "#%%\n"
    }
   },
   "execution_count": 2,
   "outputs": [
    {
     "data": {
      "text/plain": "GPT2LMHeadModel(\n  (transformer): GPT2Model(\n    (wte): Embedding(50257, 768)\n    (wpe): Embedding(1024, 768)\n    (drop): Dropout(p=0.1, inplace=False)\n    (h): ModuleList(\n      (0-11): 12 x GPT2Block(\n        (ln_1): LayerNorm((768,), eps=1e-05, elementwise_affine=True)\n        (attn): GPT2Attention(\n          (c_attn): Conv1D(nf=2304, nx=768)\n          (c_proj): Conv1D(nf=768, nx=768)\n          (attn_dropout): Dropout(p=0.1, inplace=False)\n          (resid_dropout): Dropout(p=0.1, inplace=False)\n        )\n        (ln_2): LayerNorm((768,), eps=1e-05, elementwise_affine=True)\n        (mlp): GPT2MLP(\n          (c_fc): Conv1D(nf=3072, nx=768)\n          (c_proj): Conv1D(nf=768, nx=3072)\n          (act): NewGELUActivation()\n          (dropout): Dropout(p=0.1, inplace=False)\n        )\n      )\n    )\n    (ln_f): LayerNorm((768,), eps=1e-05, elementwise_affine=True)\n  )\n  (lm_head): Linear(in_features=768, out_features=50257, bias=False)\n)"
     },
     "execution_count": 2,
     "metadata": {},
     "output_type": "execute_result"
    }
   ]
  },
  {
   "cell_type": "markdown",
   "source": [
    "### Temperature Exploration"
   ],
   "metadata": {
    "id": "b8UERp6rMqAh",
    "pycharm": {
     "name": "#%% md\n"
    }
   }
  },
  {
   "cell_type": "code",
   "execution_count": 3,
   "outputs": [],
   "source": [
    "def generate_with_temperature(prompt, temperature=1.0, max_length=50):\n",
    "    inputs = tokenizer(prompt, return_tensors=\"pt\").to(device)\n",
    "    outputs = model.generate(\n",
    "        inputs.input_ids,\n",
    "        max_length=max_length,\n",
    "        temperature=temperature,\n",
    "        do_sample=True,\n",
    "        pad_token_id=tokenizer.eos_token_id,\n",
    "    )\n",
    "    return tokenizer.decode(outputs[0], skip_special_tokens=True)"
   ],
   "metadata": {
    "pycharm": {
     "name": "#%%\n"
    },
    "id": "eCJVPqidm-Vm"
   }
  },
  {
   "cell_type": "code",
   "execution_count": 4,
   "outputs": [
    {
     "name": "stderr",
     "output_type": "stream",
     "text": [
      "The attention mask is not set and cannot be inferred from input because pad token is same as eos token. As a consequence, you may observe unexpected behavior. Please pass your input's `attention_mask` to obtain reliable results.\n"
     ]
    },
    {
     "name": "stdout",
     "output_type": "stream",
     "text": [
      "TEMPERATURE 0.2:\n",
      " The future of artificial intelligence is in the hands of a group of researchers who believe that the future of artificial intelligence is in the hands of a group of researchers who believe that the future of artificial intelligence is in the hands of a group of people who believe\n",
      "\n",
      "TEMPERATURE 0.7:\n",
      " The future of artificial intelligence is in the hands of the next generation of researchers.\n",
      "\n",
      "\"When you look at robotics and AI, we already have a lot of experience in that field,\" said Mark Herrmann, a research professor at MIT who\n",
      "\n",
      "TEMPERATURE 1.2:\n",
      " The future of artificial intelligence is not a question of the potential of science. The technology is a necessity of human civilisation as one of its vital forces, as a result of a great shift in society in the years ahead. Indeed, it is now clear\n",
      "\n"
     ]
    }
   ],
   "source": [
    "PROMPT = \"The future of artificial intelligence is\"\n",
    "print(\"TEMPERATURE 0.2:\\n\", generate_with_temperature(PROMPT, 0.2), end=\"\\n\\n\")\n",
    "print(\"TEMPERATURE 0.7:\\n\", generate_with_temperature(PROMPT, 0.7), end=\"\\n\\n\")\n",
    "print(\"TEMPERATURE 1.2:\\n\", generate_with_temperature(PROMPT, 1.2), end=\"\\n\\n\")"
   ],
   "metadata": {
    "pycharm": {
     "name": "#%%\n"
    },
    "colab": {
     "base_uri": "https://localhost:8080/"
    },
    "id": "BpopkJ9am-Vm",
    "outputId": "b28346f4-e70e-475d-ae89-c5ad5974ec1c"
   }
  },
  {
   "cell_type": "markdown",
   "source": [
    "### Decoding Strategy Comparison\n",
    "\n",
    "Let's compare different text generation strategies (decoding methods) for a given prompt using a pre-trained language model."
   ],
   "metadata": {
    "collapsed": false,
    "pycharm": {
     "name": "#%% md\n"
    },
    "id": "KB1JDVdNm-Vm"
   }
  },
  {
   "cell_type": "markdown",
   "source": [
    "We want to try four different decoding strategies:\n",
    "\n",
    "- Greedy Search: Selects the most likely next token at each step.\n",
    "\n",
    "- Beam Search (4 beams): Explores multiple sequences simultaneously, keeping the top 4 most likely sequences.\n",
    "\n",
    "- Top-k Sampling (k=50): Samples the next token from the top 50 most likely tokens.\n",
    "\n",
    "- Top-p Sampling (p=0.9): Samples the next token from the smallest set of tokens whose cumulative probability exceeds 0.9."
   ],
   "metadata": {
    "id": "k_9abHO8YBoh",
    "pycharm": {
     "name": "#%% md\n"
    }
   }
  },
  {
   "cell_type": "code",
   "execution_count": 5,
   "outputs": [],
   "source": [
    "def compare_decoding_strategies(prompt):\n",
    "    strategies = {\n",
    "        \"Greedy\": {\n",
    "            \"do_sample\": False,\n",
    "        },\n",
    "        \"Beam Search (4 beams)\": {\n",
    "            \"num_beams\": 4,\n",
    "            \"early_stopping\": True,\n",
    "        },\n",
    "        \"Top-k (k=50)\": {\n",
    "            \"do_sample\": True,\n",
    "            \"top_k\": 50,\n",
    "        },\n",
    "        \"Top-p (p=0.9)\": {\n",
    "            \"do_sample\": True,\n",
    "            \"top_p\": 0.9,\n",
    "        },\n",
    "    }\n",
    "\n",
    "    for name, params in strategies.items():\n",
    "        inputs = tokenizer(prompt, return_tensors=\"pt\").to(device)\n",
    "        outputs = model.generate(\n",
    "            inputs.input_ids,\n",
    "            max_length=50,\n",
    "            pad_token_id=tokenizer.eos_token_id,\n",
    "            **params,\n",
    "        )\n",
    "        print(f\"\\n--- {name} ---\\n{tokenizer.decode(outputs[0], skip_special_tokens=True)}\")"
   ],
   "metadata": {
    "pycharm": {
     "name": "#%%\n"
    },
    "id": "_Arv-kh2m-Vm"
   }
  },
  {
   "cell_type": "code",
   "execution_count": 6,
   "outputs": [
    {
     "name": "stdout",
     "output_type": "stream",
     "text": [
      "\n",
      "--- Greedy ---\n",
      "Machine learning workshops help people learn how to use the Internet to solve problems.\n",
      "\n",
      "The workshop is open to anyone who wants to learn how to use the Internet to solve problems.\n",
      "\n",
      "The workshop is open to anyone who wants to learn how to\n",
      "\n",
      "--- Beam Search (4 beams) ---\n",
      "Machine learning workshops help people learn how to use machine learning to solve real-world problems.\n",
      "\n",
      "In this workshop, you'll learn how to use machine learning to solve real-world problems.\n",
      "\n",
      "Learn how to use machine learning to solve real\n",
      "\n",
      "--- Top-k (k=50) ---\n",
      "Machine learning workshops help people realize the importance of identifying patterns. Each of our events are customized in ways different from other groups on campus that can be applied to all phases of your life – with one-on-one sessions and full-time opportunities.\n",
      "\n",
      "--- Top-p (p=0.9) ---\n",
      "Machine learning workshops help people build a stronger, more intelligent and more collaborative computer.\n"
     ]
    }
   ],
   "source": [
    "compare_decoding_strategies(\"Machine learning workshops help people\")"
   ],
   "metadata": {
    "pycharm": {
     "name": "#%%\n"
    },
    "colab": {
     "base_uri": "https://localhost:8080/"
    },
    "id": "WCJm7hmDm-Vm",
    "outputId": "99367aa3-5c71-41e4-94a2-83ce7d7c7d3f"
   }
  },
  {
   "cell_type": "markdown",
   "source": [
    "### Temperature / Entropy Visualization\n",
    "\n",
    "Let's analyze the effect of temperature on the entropy of a language model's predictions for a given prompt."
   ],
   "metadata": {
    "collapsed": false,
    "pycharm": {
     "name": "#%% md\n"
    },
    "id": "xa3CF8c6m-Vm"
   }
  },
  {
   "cell_type": "markdown",
   "source": [
    "Let's see how changing the temperature parameter affects the entropy (uncertainty) of the model's predictions. Temperature is a hyperparameter used to control the randomness of predictions during text generation."
   ],
   "metadata": {
    "id": "3FggOEK3YPve",
    "pycharm": {
     "name": "#%% md\n"
    }
   }
  },
  {
   "cell_type": "code",
   "execution_count": 7,
   "outputs": [],
   "source": [
    "def plot_temperature_effect():\n",
    "    prompt = \"The best way to learn NLP is\"\n",
    "    temperatures = [0.1, 0.5, 1.0, 1.5, 2.0]\n",
    "    entropies = []\n",
    "\n",
    "    for temp in temperatures:\n",
    "        inputs = tokenizer(prompt, return_tensors=\"pt\").to(device)\n",
    "        outputs = model(**inputs)\n",
    "        probs = torch.softmax(outputs.logits[0, -1, :] / temp, dim=-1)  # Look at Me!\n",
    "        entropy = -torch.sum(probs * torch.log(probs)).item()\n",
    "        entropies.append(entropy)\n",
    "\n",
    "    plt.plot(temperatures, entropies, marker=\"o\")\n",
    "    plt.xlabel(\"Temperature\")\n",
    "    plt.ylabel(\"Entropy\")\n",
    "    plt.title(\"Temperature vs Prediction Entropy\")\n",
    "    plt.show()"
   ],
   "metadata": {
    "pycharm": {
     "name": "#%%\n"
    },
    "id": "nBIWs98Zm-Vm"
   }
  },
  {
   "cell_type": "code",
   "source": [
    "plot_temperature_effect()"
   ],
   "metadata": {
    "colab": {
     "base_uri": "https://localhost:8080/",
     "height": 472
    },
    "id": "UBKrxNKtM5nH",
    "outputId": "82eb9491-9a51-46d4-f3d1-3dee1d555116",
    "pycharm": {
     "name": "#%%\n"
    }
   },
   "execution_count": 8,
   "outputs": [
    {
     "data": {
      "text/plain": "<Figure size 640x480 with 1 Axes>",
      "image/png": "[encoded data removed]"
     },
     "metadata": {},
     "output_type": "display_data"
    }
   ]
  }
 ]
}