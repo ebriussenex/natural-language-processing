{
 "nbformat": 4,
 "nbformat_minor": 0,
 "metadata": {
  "colab": {
   "provenance": []
  },
  "kernelspec": {
   "name": "python3",
   "display_name": "Python 3"
  },
  "language_info": {
   "name": "python"
  }
 },
 "cells": [
  {
   "cell_type": "markdown",
   "source": [
    "# Transformer Architecture"
   ],
   "metadata": {
    "collapsed": false,
    "pycharm": {
     "name": "#%% md\n"
    },
    "id": "m5uJi7YRawcw"
   }
  },
  {
   "cell_type": "markdown",
   "source": [
    "In this notebook we will implement the Transformer architecture, which has had a key impact on the development of NLP and other areas of machine learning since its introduction in 2017."
   ],
   "metadata": {
    "collapsed": false,
    "pycharm": {
     "name": "#%% md\n"
    },
    "id": "0D6ptNfLawcy"
   }
  },
  {
   "cell_type": "markdown",
   "source": [
    "## Theory"
   ],
   "metadata": {
    "id": "ySCx0PoWSmN4",
    "pycharm": {
     "name": "#%% md\n"
    }
   }
  },
  {
   "cell_type": "markdown",
   "source": [
    "Let's recall what the **attention mechanism** is and what it consists of.\n",
    "\n",
    "Literature says: *The attention mechanism describes a weighted average of sequence elements with the weights dynamically computed based on an input query and elements' keys.*\n",
    "\n",
    "To clarify, this means that rather than simply averaging the features of multiple elements equally, we aim to assign different weights to each element depending on its relevance or value. And we want to dynamically determine which inputs deserve more \"attention\" than others.\n",
    "\n",
    "An attention mechanism consists of three key components:\n",
    "\n",
    "*   **Query:** The query is a feature vector that describes what we are looking for in the sequence, i.e. what would we maybe want to pay attention to.\n",
    "*   **Keys:** For each input element, we have a key which is again a feature vector. This feature vector roughly describes what the element is “offering”, or when it might be important. The keys should be designed such that we can identify the elements we want to pay attention to based on the query.\n",
    "*   **Values:** For each input element, we also have a value vector. This feature vector is the one we want to average over.\n",
    "\n",
    "The weights of the average are calculated by a softmax over Query-Key score (which is most often just their dot product). Therefore, we assign higher weights to the value vectors whose corresponding keys are most similar to the query.\n",
    "\n",
    "Visually, it can be shown as follows:"
   ],
   "metadata": {
    "id": "kY5rm9sBSqSI",
    "pycharm": {
     "name": "#%% md\n"
    }
   }
  },
  {
   "cell_type": "markdown",
   "source": [
    "![](https://raw.githubusercontent.com/lwtztea/ml_pic/f8af000/week_3/attention.png)"
   ],
   "metadata": {
    "id": "13Lc5Cjzhkp1",
    "pycharm": {
     "name": "#%% md\n"
    }
   }
  },
  {
   "cell_type": "markdown",
   "source": [
    "**Todo:** add smth about self-attention"
   ],
   "metadata": {
    "id": "6MuTbLesh3UX",
    "pycharm": {
     "name": "#%% md\n"
    }
   }
  },
  {
   "cell_type": "markdown",
   "source": [
    "## Implementation"
   ],
   "metadata": {
    "id": "rSPSpTIoqOC9",
    "pycharm": {
     "name": "#%% md\n"
    }
   }
  },
  {
   "cell_type": "markdown",
   "source": [
    "Let's implement an [original paper](!https://arxiv.org/pdf/1706.03762)!"
   ],
   "metadata": {
    "id": "h3IQzovh84tR",
    "pycharm": {
     "name": "#%% md\n"
    }
   }
  },
  {
   "cell_type": "code",
   "execution_count": 1,
   "metadata": {
    "id": "qpcyptR6pV0P",
    "pycharm": {
     "name": "#%%\n"
    }
   },
   "outputs": [],
   "source": [
    "import math\n",
    "\n",
    "import matplotlib.pyplot as plt\n",
    "import torch\n",
    "import torch.nn as nn"
   ]
  },
  {
   "cell_type": "markdown",
   "source": [
    "<img src = https://raw.githubusercontent.com/lwtztea/ml_pic/f8af000/week_3/transformer.png width = \"500\" >"
   ],
   "metadata": {
    "id": "kRDcVjeubSXd",
    "pycharm": {
     "name": "#%% md\n"
    }
   }
  },
  {
   "cell_type": "markdown",
   "source": [
    "### 1. Positional Encoding"
   ],
   "metadata": {
    "id": "HFvcmeVPpcVQ",
    "pycharm": {
     "name": "#%% md\n"
    }
   }
  },
  {
   "cell_type": "markdown",
   "source": [
    "$PE_{(pos, i)}$ represents the position encoding at **position** $pos$ in the sequence and **hidden dimensionality** $i$:\n",
    "\n",
    "\\begin{split}PE_{(pos,i)} = \\begin{cases}\n",
    "\\sin \\left( \\frac{pos}{10000^{i/d_{model}}} \\right) & \\text{if}\\hspace{3mm} i \\text{ mod } 2 = 0 \\\\\n",
    "\\cos \\left( \\frac{pos}{10000^{(i-1)/d_{model}}} \\right) & \\text{otherwize}\n",
    "\\end{cases}\\end{split}"
   ],
   "metadata": {
    "id": "AqUu40X6ybca",
    "pycharm": {
     "name": "#%% md\n"
    }
   }
  },
  {
   "cell_type": "code",
   "execution_count": 2,
   "outputs": [],
   "source": [
    "class PositionalEncoding(nn.Module):\n",
    "\n",
    "    def __init__(self, d_model, max_len=5000):\n",
    "        super(PositionalEncoding, self).__init__()\n",
    "\n",
    "        # Create matrix of [SeqLen, HiddenDim] representing the positional encoding for max_len inputs\n",
    "        pe = torch.zeros(max_len, d_model)\n",
    "        position = torch.arange(0, max_len, dtype=torch.float).unsqueeze(1)\n",
    "        div_term = torch.exp(\n",
    "            torch.arange(0, d_model, 2).float() *\n",
    "            (-math.log(10000.0) / d_model))\n",
    "        pe[:, 0::2] = torch.sin(position * div_term)\n",
    "        pe[:, 1::2] = torch.cos(position * div_term)\n",
    "        pe = pe.unsqueeze(0)\n",
    "\n",
    "        # register_buffer => Tensor which is not a parameter, but should be part of the modules state.\n",
    "        # Used for tensors that need to be on the same device as the module.\n",
    "        # persistent=False tells PyTorch to not add the buffer to the state dict (e.g. when we save the model)\n",
    "        self.register_buffer(\"pe\", pe, persistent=False)\n",
    "\n",
    "    def forward(self, x):\n",
    "        # x shape: (batch_size, seq_len, d_model)\n",
    "        return x + self.pe[:, :x.size(1)]  # token embedding + positional encoding"
   ],
   "metadata": {
    "pycharm": {
     "name": "#%%\n"
    },
    "id": "PfLzkV4Kawc5"
   }
  },
  {
   "cell_type": "code",
   "execution_count": 3,
   "outputs": [
    {
     "data": {
      "text/plain": "<Figure size 800x300 with 2 Axes>",
      "image/png": "[encoded data removed]"
     },
     "metadata": {},
     "output_type": "display_data"
    }
   ],
   "source": [
    "encod_block = PositionalEncoding(d_model=48, max_len=96)\n",
    "pe = encod_block.pe.squeeze().T.cpu().numpy()\n",
    "\n",
    "fig, ax = plt.subplots(nrows=1, ncols=1, figsize=(8, 3))\n",
    "pos = ax.imshow(pe, cmap=\"RdGy\", extent=(1, pe.shape[1] + 1, pe.shape[0] + 1, 1))\n",
    "fig.colorbar(pos, ax=ax)\n",
    "ax.set_xlabel(\"Position in sequence\")\n",
    "ax.set_ylabel(\"Hidden dimension\")\n",
    "ax.set_title(\"Positional encoding over hidden dimensions\")\n",
    "ax.set_xticks([1] + [i * 10 for i in range(1, 1 + pe.shape[1] // 10)])\n",
    "ax.set_yticks([1] + [i * 10 for i in range(1, 1 + pe.shape[0] // 10)])\n",
    "plt.show()"
   ],
   "metadata": {
    "pycharm": {
     "name": "#%%\n"
    },
    "colab": {
     "base_uri": "https://localhost:8080/",
     "height": 333
    },
    "id": "tqMso5UJawc5",
    "outputId": "0af9733d-a07b-4d6f-9ce7-51fe51d2f918"
   }
  },
  {
   "cell_type": "markdown",
   "source": [
    "### 2. Scaled Dot-Product Attention"
   ],
   "metadata": {
    "collapsed": false,
    "pycharm": {
     "name": "#%% md\n"
    },
    "id": "fLRPu9fkawc5"
   }
  },
  {
   "cell_type": "markdown",
   "source": [
    "The input consists of queries and keys of dimension $d_k$ , and values of dimension $d_v$. We compute the dot products of the query with all keys, divide each by $\\sqrt{d_k}$, and apply a softmax function to obtain the weights on the\n",
    "values."
   ],
   "metadata": {
    "collapsed": false,
    "pycharm": {
     "name": "#%% md\n"
    },
    "id": "BmsLNenNawc5"
   }
  },
  {
   "cell_type": "markdown",
   "source": [
    "<img src = https://raw.githubusercontent.com/lwtztea/ml_pic/f8af000/week_3/scaled%20dot%20product%20attention.png width = \"500\" >"
   ],
   "metadata": {
    "id": "4y_IjBxdbW7R",
    "pycharm": {
     "name": "#%% md\n"
    }
   }
  },
  {
   "cell_type": "markdown",
   "source": [
    "$$\\text{Attention}(Q, K, V) = \\text{softmax}(\\frac{QK^T}{\\sqrt{d_k}})V$$"
   ],
   "metadata": {
    "collapsed": false,
    "pycharm": {
     "name": "#%% md\n"
    },
    "id": "JYtKzq9Iawc5"
   }
  },
  {
   "cell_type": "code",
   "execution_count": 4,
   "outputs": [],
   "source": [
    "class ScaledDotProductAttention(nn.Module):\n",
    "\n",
    "    def __init__(self, dropout=0.1):\n",
    "        super(ScaledDotProductAttention, self).__init__()\n",
    "        self.dropout = nn.Dropout(dropout)\n",
    "\n",
    "    def forward(self, q, k, v, mask=None):\n",
    "        d_k = q.size(-1)\n",
    "        # (batch, head, seq_len, head_dim) --> (batch, h, seq_len, seq_len)\n",
    "        attn_logits = torch.matmul(q, k.transpose(-2, -1)) / math.sqrt(d_k)\n",
    "\n",
    "        if mask is not None:\n",
    "            attn_logits = attn_logits.masked_fill(mask == 0, -1e9)\n",
    "\n",
    "        attention = torch.softmax(attn_logits, dim=-1)\n",
    "        attention = self.dropout(attention)\n",
    "\n",
    "        values = torch.matmul(attention, v)\n",
    "        return values, attention"
   ],
   "metadata": {
    "pycharm": {
     "name": "#%%\n"
    },
    "id": "3dV6WZITawc5"
   }
  },
  {
   "cell_type": "code",
   "execution_count": 5,
   "outputs": [
    {
     "name": "stdout",
     "output_type": "stream",
     "text": [
      "Q\n",
      " tensor([[-0.4130, -0.9796],\n",
      "        [-1.2811,  1.4837],\n",
      "        [ 1.6496,  1.5318]])\n",
      "K\n",
      " tensor([[-0.4710,  1.0884],\n",
      "        [ 0.0147,  0.0921],\n",
      "        [-1.1329, -0.1329]])\n",
      "V\n",
      " tensor([[-0.1128,  0.3823],\n",
      "        [-1.2206,  0.5437],\n",
      "        [ 0.0885, -1.3228]])\n",
      "Values\n",
      " tensor([[-0.3948, -0.4832],\n",
      "        [-0.2209, -0.1050],\n",
      "        [-0.5374,  0.3517]])\n",
      "Attention\n",
      " tensor([[0.1999, 0.3459, 0.5653],\n",
      "        [0.6415, 0.1453, 0.3244],\n",
      "        [0.6453, 0.3864, 0.0794]])\n"
     ]
    }
   ],
   "source": [
    "seq_len, d_k = 3, 2\n",
    "\n",
    "q = torch.randn(seq_len, d_k)\n",
    "k = torch.randn(seq_len, d_k)\n",
    "v = torch.randn(seq_len, d_k)\n",
    "\n",
    "scaled_dot_product = ScaledDotProductAttention()\n",
    "values, attention = scaled_dot_product.forward(q, k, v)\n",
    "\n",
    "print(\"Q\\n\", q)\n",
    "print(\"K\\n\", k)\n",
    "print(\"V\\n\", v)\n",
    "print(\"Values\\n\", values)\n",
    "print(\"Attention\\n\", attention)"
   ],
   "metadata": {
    "pycharm": {
     "name": "#%%\n"
    },
    "colab": {
     "base_uri": "https://localhost:8080/"
    },
    "id": "qH1dq_rsawc5",
    "outputId": "aa52d469-ac17-4aea-f37b-456b25532107"
   }
  },
  {
   "cell_type": "markdown",
   "source": [
    "### 3. Multi-Head Attention"
   ],
   "metadata": {
    "collapsed": false,
    "pycharm": {
     "name": "#%% md\n"
    },
    "id": "sU0v2-KYawc5"
   }
  },
  {
   "cell_type": "markdown",
   "source": [
    "Multi-head attention allows the model to jointly attend to information from different representation subspaces at different positions."
   ],
   "metadata": {
    "collapsed": false,
    "pycharm": {
     "name": "#%% md\n"
    },
    "id": "ME4JCUoLawc5"
   }
  },
  {
   "cell_type": "markdown",
   "source": [
    "<img src = https://raw.githubusercontent.com/lwtztea/ml_pic/f8af000/week_3/multi%20head%20attention.png width = \"500\" >"
   ],
   "metadata": {
    "id": "keoHD_dhbxTZ",
    "pycharm": {
     "name": "#%% md\n"
    }
   }
  },
  {
   "cell_type": "markdown",
   "source": [
    "\\begin{split}\n",
    "\\text{MultiHead}(Q, K, V) &= \\text{Concat}(\\text{head}_1, ..., \\text{head}_h)W^O \\\\\n",
    "\\text{where } \\text{head}_i &= \\text{Attention}(QW_i^Q, KW_i^K, VW_i^V)\n",
    "\\end{split}\n",
    "\n",
    "where the projections are trainable matrices\n",
    "$W_i^Q \\in \\mathbb{R}^{d_{model} \\times d_k}$,\n",
    "$W_i^K \\in \\mathbb{R}^{d_{model} \\times d_k}$,\n",
    "$W_i^V \\in \\mathbb{R}^{d_{model} \\times d_v}$ and\n",
    "$W_i^O \\in \\mathbb{R}^{hd_v \\times d_{model}}$."
   ],
   "metadata": {
    "collapsed": false,
    "pycharm": {
     "name": "#%% md\n"
    },
    "id": "6UiKLNbNawc5"
   }
  },
  {
   "cell_type": "code",
   "execution_count": 6,
   "outputs": [],
   "source": [
    "class MultiHeadAttention(nn.Module):\n",
    "\n",
    "    def __init__(self, d_model, num_heads, dropout=0.1):\n",
    "        super(MultiHeadAttention, self).__init__()\n",
    "        assert (d_model % num_heads == 0), \"Embedding dimension must be 0 modulo number of heads.\"\n",
    "\n",
    "        self.d_model = d_model\n",
    "        self.num_heads = num_heads\n",
    "        self.head_dim = d_model // num_heads\n",
    "\n",
    "        self.attention = ScaledDotProductAttention(dropout)\n",
    "\n",
    "        self.w_q = nn.Linear(d_model, d_model)\n",
    "        self.w_k = nn.Linear(d_model, d_model)\n",
    "        self.w_v = nn.Linear(d_model, d_model)\n",
    "        self.w_concat = nn.Linear(d_model, d_model)\n",
    "\n",
    "    def _split(self, x):\n",
    "        batch_size, seq_length, _ = x.size()\n",
    "        x = x.view(batch_size, seq_length, self.num_heads, self.head_dim)  # (batch, seq_len, head, head_dim)\n",
    "        x = x.transpose(1, 2)  # (batch, head, seq_len, head_dim)\n",
    "\n",
    "        return x\n",
    "\n",
    "    def _concat(self, x):\n",
    "        batch_size, _, seq_length, _ = x.size()\n",
    "        x = x.transpose(1, 2).contiguous()  # (batch, seq_len, head, head_dim)\n",
    "        x = x.view(batch_size, seq_length, self.d_model)  # (batch, seq_len, d_model)\n",
    "\n",
    "        return x\n",
    "\n",
    "    def forward(self, q, k, v, mask=None):\n",
    "        # 1. dot product with weight matrices\n",
    "        q, k, v = self.w_q(q), self.w_k(k), self.w_v(v)\n",
    "\n",
    "        # 2. split tensor by number of heads\n",
    "        q, k, v = self._split(q), self._split(k), self._split(v)\n",
    "\n",
    "        # 3. do scale dot product to compute similarity\n",
    "        out, attention = self.attention(q, k, v, mask=mask)\n",
    "\n",
    "        # 4. concat and pass to linear layer\n",
    "        out = self._concat(out)\n",
    "        out = self.w_concat(out)\n",
    "\n",
    "        return out, attention"
   ],
   "metadata": {
    "pycharm": {
     "name": "#%%\n"
    },
    "id": "_oVbMi4uawc5"
   }
  },
  {
   "cell_type": "markdown",
   "source": [
    "### 4. Layer Normalization"
   ],
   "metadata": {
    "collapsed": false,
    "pycharm": {
     "name": "#%% md\n"
    },
    "id": "FXeMysfwawc5"
   }
  },
  {
   "cell_type": "markdown",
   "source": [
    "The Layer Normalization also plays an important role in the Transformer architecture as it enables faster training and provides small regularization. Additionally, it ensures that the features are in a similar magnitude among the elements in the sequence. We are not using Batch Normalization because it depends on the batch size which is often small with Transformers (they require a lot of GPU memory), and BatchNorm has shown to perform particularly bad in language as the features of words tend to have a much higher variance (there are many, very rare words which need to be considered for a good distribution estimate)."
   ],
   "metadata": {
    "collapsed": false,
    "pycharm": {
     "name": "#%% md\n"
    },
    "id": "wm--fxqYawc5"
   }
  },
  {
   "cell_type": "markdown",
   "source": [
    "<img src = https://raw.githubusercontent.com/lwtztea/ml_pic/f8af000/week_3/layer%20normalization.png width = \"500\" >"
   ],
   "metadata": {
    "id": "PEbCs_L0cM93",
    "pycharm": {
     "name": "#%% md\n"
    }
   }
  },
  {
   "cell_type": "markdown",
   "source": [
    "$$\n",
    "\\hat{x} = \\frac{x - \\text{E}(x)}{\\sqrt{\\text{Var}(x) + \\epsilon}} \\cdot \\gamma + \\beta\n",
    "$$\n",
    "where $\\epsilon$ is a small constant added for numerical stability,\n",
    "$\\gamma$ and $\\beta$ are learnable parameters that scale and shift the normalized values.\n",
    "\n",
    "The mean and standard-deviation are calculated over the last D dimensions."
   ],
   "metadata": {
    "collapsed": false,
    "pycharm": {
     "name": "#%% md\n"
    },
    "id": "dSTw68NBawc5"
   }
  },
  {
   "cell_type": "code",
   "execution_count": 7,
   "outputs": [
    {
     "name": "stdout",
     "output_type": "stream",
     "text": [
      "Batch values\n",
      " tensor([[[ 1.5594,  0.8827],\n",
      "         [-0.7877,  1.5221],\n",
      "         [-1.7949,  0.7269]]])\n",
      "\n",
      "Normalized embeddings\n",
      " tensor([[[ 1.0000, -1.0000],\n",
      "         [-1.0000,  1.0000],\n",
      "         [-1.0000,  1.0000]]], grad_fn=<NativeLayerNormBackward0>)\n",
      "\n",
      "Normalized embeddings and sequences\n",
      " tensor([[[ 0.9778,  0.4301],\n",
      "         [-0.9220,  0.9476],\n",
      "         [-1.7374,  0.3039]]], grad_fn=<NativeLayerNormBackward0>)\n"
     ]
    }
   ],
   "source": [
    "batch_size, seq_len, d_model = 1, 3, 2\n",
    "\n",
    "mini_batch = torch.randn(batch_size, seq_len, d_model)\n",
    "layer_norm = nn.LayerNorm(d_model)  # normalize over embedding dimention\n",
    "layer_norm_2 = nn.LayerNorm((seq_len, d_model))  # normalize over sequence and embedding dimentions\n",
    "\n",
    "print(\"Batch values\\n\", mini_batch)\n",
    "print()\n",
    "print(\"Normalized embeddings\\n\", layer_norm(mini_batch))\n",
    "print()\n",
    "print(\"Normalized embeddings and sequences\\n\", layer_norm_2(mini_batch))"
   ],
   "metadata": {
    "pycharm": {
     "name": "#%%\n"
    },
    "colab": {
     "base_uri": "https://localhost:8080/"
    },
    "id": "Lr-T5xXKawc6",
    "outputId": "078a39e1-8083-431a-bcd7-64d7205b80d4"
   }
  },
  {
   "cell_type": "markdown",
   "source": [
    "### 5. Feed Forward Network"
   ],
   "metadata": {
    "collapsed": false,
    "pycharm": {
     "name": "#%% md\n"
    },
    "id": "yJ00cZaZawc6"
   }
  },
  {
   "cell_type": "markdown",
   "source": [
    "Additionally to the Multi-Head Attention, a small fully connected feed-forward network is added to the model, which is applied to each position separately and identically. Specifically, the model uses a LinearReLULinear MLP (Multilayer Perceptron). The full transformation including the residual connection can be expressed as:\n",
    "\n",
    "\\begin{split}\n",
    "\\text{FFN}(x) &= \\max (0, xW_1 + b)W_2 + b_2 \\\\\n",
    "x &= \\text{LayerNorm}(x + \\text{FFN}(x)) \\\\\n",
    "\\end{split}\n",
    "\n",
    "This MLP adds extra complexity to the model and allows transformations on each sequence element separately. You can imagine as this allows the model to “post-process” the new information added by the previous Multi-Head Attention, and prepare it for the next attention block."
   ],
   "metadata": {
    "collapsed": false,
    "pycharm": {
     "name": "#%% md\n"
    },
    "id": "oa6b6XK0awc6"
   }
  },
  {
   "cell_type": "code",
   "execution_count": 8,
   "outputs": [],
   "source": [
    "class FeedForward(nn.Module):\n",
    "\n",
    "    def __init__(self, d_model, d_ff=2048, dropout=0.1):\n",
    "        super(FeedForward, self).__init__()\n",
    "        self.linear_1 = nn.Linear(d_model, d_ff)\n",
    "        self.dropout = nn.Dropout(dropout)\n",
    "        self.linear_2 = nn.Linear(d_ff, d_model)\n",
    "\n",
    "    def forward(self, x):\n",
    "        x = self.dropout(torch.relu(self.linear_1(x)))\n",
    "        x = self.linear_2(x)\n",
    "        return x"
   ],
   "metadata": {
    "pycharm": {
     "name": "#%%\n"
    },
    "id": "z5kX-xDGawc6"
   }
  },
  {
   "cell_type": "markdown",
   "source": [
    "### 6. Encoder Block"
   ],
   "metadata": {
    "collapsed": false,
    "pycharm": {
     "name": "#%% md\n"
    },
    "id": "vvEbFJc4awc6"
   }
  },
  {
   "cell_type": "code",
   "execution_count": 9,
   "outputs": [],
   "source": [
    "class EncoderBlock(nn.Module):\n",
    "\n",
    "    def __init__(self, d_model, num_heads, d_ff, dropout=0.1):\n",
    "        super(EncoderBlock, self).__init__()\n",
    "        self.self_attn = MultiHeadAttention(d_model, num_heads, dropout)\n",
    "        self.feed_forward = FeedForward(d_model, d_ff, dropout)\n",
    "        self.norm_1 = nn.LayerNorm(d_model)\n",
    "        self.norm_2 = nn.LayerNorm(d_model)\n",
    "        self.dropout_1 = nn.Dropout(dropout)\n",
    "        self.dropout_2 = nn.Dropout(dropout)\n",
    "\n",
    "    def forward(self, x, mask=None):\n",
    "        attn_output, _ = self.self_attn(x, x, x, mask)\n",
    "        x = x + self.dropout_1(attn_output)\n",
    "        x = self.norm_1(x)\n",
    "\n",
    "        ff_output = self.feed_forward(x)\n",
    "        x = x + self.dropout_2(ff_output)\n",
    "        x = self.norm_2(x)\n",
    "\n",
    "        return x"
   ],
   "metadata": {
    "pycharm": {
     "name": "#%%\n"
    },
    "id": "e4ni2cFvawc6"
   }
  },
  {
   "cell_type": "markdown",
   "source": [
    "### 7. Decoder Block"
   ],
   "metadata": {
    "collapsed": false,
    "pycharm": {
     "name": "#%% md\n"
    },
    "id": "Ks2WzqHmawc6"
   }
  },
  {
   "cell_type": "code",
   "execution_count": 10,
   "outputs": [],
   "source": [
    "class DecoderBlock(nn.Module):\n",
    "\n",
    "    def __init__(self, d_model, num_heads, d_ff, dropout=0.1):\n",
    "        super(DecoderBlock, self).__init__()\n",
    "        self.self_attn = MultiHeadAttention(d_model, num_heads, dropout)\n",
    "        self.cross_attn = MultiHeadAttention(d_model, num_heads, dropout)\n",
    "        self.feed_forward = FeedForward(d_model, d_ff, dropout)\n",
    "        self.norm_1 = nn.LayerNorm(d_model)\n",
    "        self.norm_2 = nn.LayerNorm(d_model)\n",
    "        self.norm_3 = nn.LayerNorm(d_model)\n",
    "        self.dropout_1 = nn.Dropout(dropout)\n",
    "        self.dropout_2 = nn.Dropout(dropout)\n",
    "        self.dropout_3 = nn.Dropout(dropout)\n",
    "\n",
    "    def forward(self, x, memory, src_mask=None, tgt_mask=None):\n",
    "        attn_output, _ = self.self_attn(x, x, x, tgt_mask)\n",
    "        x = x + self.dropout_1(attn_output)\n",
    "        x = self.norm_1(x)\n",
    "\n",
    "        attn_output, _ = self.cross_attn(x, memory, memory, src_mask)\n",
    "        x = x + self.dropout_2(attn_output)\n",
    "        x = self.norm_2(x)\n",
    "\n",
    "        ff_output = self.feed_forward(x)\n",
    "        x = x + self.dropout_3(ff_output)\n",
    "        x = self.norm_3(x)\n",
    "\n",
    "        return x"
   ],
   "metadata": {
    "pycharm": {
     "name": "#%%\n"
    },
    "id": "sTrELM4Gawc6"
   }
  },
  {
   "cell_type": "markdown",
   "source": [
    "### 8. Full Transformer Model"
   ],
   "metadata": {
    "collapsed": false,
    "pycharm": {
     "name": "#%% md\n"
    },
    "id": "NvM5ZKWSawc6"
   }
  },
  {
   "cell_type": "code",
   "execution_count": 11,
   "outputs": [],
   "source": [
    "class Transformer(nn.Module):\n",
    "\n",
    "    def __init__(\n",
    "        self,\n",
    "        src_vocab_size,\n",
    "        tgt_vocab_size,\n",
    "        d_model,\n",
    "        num_heads,\n",
    "        num_encoder_layers,\n",
    "        num_decoder_layers,\n",
    "        d_ff,\n",
    "        dropout=0.1,\n",
    "        max_len=5000,\n",
    "    ):\n",
    "        super(Transformer, self).__init__()\n",
    "        self.encoder_embedding = nn.Embedding(src_vocab_size, d_model)\n",
    "        self.decoder_embedding = nn.Embedding(tgt_vocab_size, d_model)\n",
    "        self.positional_encoding = PositionalEncoding(d_model, max_len)\n",
    "        self.encoder_layers = nn.ModuleList([\n",
    "            EncoderBlock(d_model, num_heads, d_ff, dropout)\n",
    "            for _ in range(num_encoder_layers)\n",
    "        ])\n",
    "        self.decoder_layers = nn.ModuleList([\n",
    "            DecoderBlock(d_model, num_heads, d_ff, dropout)\n",
    "            for _ in range(num_decoder_layers)\n",
    "        ])\n",
    "        self.fc_out = nn.Linear(d_model, tgt_vocab_size)\n",
    "        self.dropout = nn.Dropout(dropout)\n",
    "\n",
    "    def encode(self, src, src_mask=None):\n",
    "        x = self.dropout(self.positional_encoding(self.encoder_embedding(src)))\n",
    "        for layer in self.encoder_layers:\n",
    "            x = layer(x, src_mask)\n",
    "        return x\n",
    "\n",
    "    def decode(self, tgt, memory, src_mask=None, tgt_mask=None):\n",
    "        x = self.dropout(self.positional_encoding(self.decoder_embedding(tgt)))\n",
    "        for layer in self.decoder_layers:\n",
    "            x = layer(x, memory, src_mask, tgt_mask)\n",
    "        return x\n",
    "\n",
    "    def generate_square_subsequent_mask(self, seq_size):\n",
    "        mask = (torch.triu(torch.ones(seq_size, seq_size)) == 1).transpose(0, 1)\n",
    "        mask = (mask.float().masked_fill(mask == 0, float(\"-inf\")).masked_fill(mask == 1, float(0.0)))\n",
    "        return mask\n",
    "\n",
    "    def forward(self, src, tgt, src_mask=None, tgt_mask=None):\n",
    "        if tgt_mask is None:\n",
    "            tgt_mask = self.generate_square_subsequent_mask(tgt.size(1))\n",
    "\n",
    "        encoder_output = self.encode(src, src_mask)\n",
    "        decoder_output = self.decode(tgt, encoder_output, src_mask, tgt_mask)\n",
    "        output = self.fc_out(decoder_output)\n",
    "        return output"
   ],
   "metadata": {
    "pycharm": {
     "name": "#%%\n"
    },
    "id": "H-CpWsaPawc6"
   }
  },
  {
   "cell_type": "code",
   "execution_count": 12,
   "outputs": [
    {
     "data": {
      "text/plain": "tensor([[1., 0., 0., 0.],\n        [1., 1., 0., 0.],\n        [1., 1., 1., 0.],\n        [1., 1., 1., 1.]])"
     },
     "execution_count": 12,
     "metadata": {},
     "output_type": "execute_result"
    }
   ],
   "source": [
    "torch.triu(torch.ones(4, 4)).transpose(0, 1)"
   ],
   "metadata": {
    "pycharm": {
     "name": "#%%\n"
    },
    "colab": {
     "base_uri": "https://localhost:8080/"
    },
    "id": "tNSR5JL7awc9",
    "outputId": "45db11fa-ec4b-4f63-dc6b-37e806e7be4e"
   }
  },
  {
   "cell_type": "markdown",
   "source": [
    "## Usage example"
   ],
   "metadata": {
    "collapsed": false,
    "pycharm": {
     "name": "#%% md\n"
    },
    "id": "q5yFt2rvawc9"
   }
  },
  {
   "cell_type": "code",
   "execution_count": 13,
   "outputs": [
    {
     "name": "stdout",
     "output_type": "stream",
     "text": [
      "torch.Size([32, 10, 9000])\n"
     ]
    }
   ],
   "source": [
    "# Hyperparams\n",
    "src_vocab_size = 8000\n",
    "tgt_vocab_size = 9000\n",
    "d_model = 512\n",
    "num_heads = 8\n",
    "num_encoder_layers = 6\n",
    "num_decoder_layers = 6\n",
    "d_ff = 2048\n",
    "dropout = 0.1\n",
    "\n",
    "# Initialization\n",
    "model = Transformer(\n",
    "    src_vocab_size,\n",
    "    tgt_vocab_size,\n",
    "    d_model,\n",
    "    num_heads,\n",
    "    num_encoder_layers,\n",
    "    num_decoder_layers,\n",
    "    d_ff,\n",
    "    dropout,\n",
    ")\n",
    "\n",
    "# Inputs\n",
    "src = torch.randint(0, src_vocab_size, (32, 10))  # Batch size = 32, Seq length = 10\n",
    "tgt = torch.randint(0, tgt_vocab_size, (32, 10))\n",
    "\n",
    "# Prediction\n",
    "output = model(src, tgt)\n",
    "print(output.shape)  # (batch_size, seq_len, tgt_vocab_size)"
   ],
   "metadata": {
    "pycharm": {
     "name": "#%%\n"
    },
    "colab": {
     "base_uri": "https://localhost:8080/"
    },
    "id": "6H5ewma0awc9",
    "outputId": "bfe5389a-4a2c-42a3-82c1-16fb8bdc5621"
   }
  },
  {
   "cell_type": "markdown",
   "source": [
    "### Now you can train it :)"
   ],
   "metadata": {
    "id": "hu4FyYogY9Ga",
    "pycharm": {
     "name": "#%% md\n"
    }
   }
  },
  {
   "cell_type": "code",
   "source": [
    "# YOUR CODE HERE"
   ],
   "metadata": {
    "id": "GmGR4e1YZCJR",
    "pycharm": {
     "name": "#%%\n"
    }
   },
   "execution_count": 14,
   "outputs": []
  }
 ]
}