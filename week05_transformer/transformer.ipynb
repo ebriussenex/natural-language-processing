{
  "cells": [
    {
      "cell_type": "markdown",
      "source": [
        "# **Seminar - Attention и Transformer**"
      ],
      "metadata": {
        "id": "jcYtDZ6yYlk7"
      }
    },
    {
      "cell_type": "markdown",
      "source": [
        "## 1. Let's build Transformer from scratch in Pytorch\n",
        "\n",
        "<img src=\"https://i.pinimg.com/736x/c1/83/1a/c1831a58ecc935fc0f2ef4d35ce4fddb.jpg\">"
      ],
      "metadata": {
        "id": "GFS003OQYv2w"
      }
    },
    {
      "cell_type": "code",
      "source": [
        "from collections import OrderedDict\n",
        "import torch\n",
        "import torch.nn as nn\n",
        "import torch.nn.functional as F\n",
        "import math\n",
        "import matplotlib.pyplot as plt\n",
        "%matplotlib inline"
      ],
      "metadata": {
        "id": "gEmHY574YpNu"
      },
      "execution_count": null,
      "outputs": []
    },
    {
      "cell_type": "markdown",
      "source": [
        "### 1.1 Multi-head Attention\n",
        "\n",
        "#### Main class - MultiHeadAttention\n",
        "\n",
        "**Initialization:**\n",
        "* _in_size_ ~ size of the input embeddings\n",
        "* _head_size_ ~ size of the embeddings for Q, K, V matrices after transformation\n",
        "* _num_heads_ ~ number of heads\n",
        "* _out_size_ ~ size of the output embeddings\n",
        "* _query_in_size_ ~ size of the input embeddings\n",
        "\n",
        "**Forward:**\n",
        "* query, key, value ~ 3 tensors (one for each Q, K, and V transformation - these are not yet the tensors of shape $\\text{batch_size} \\times seq \\times d_k$, but tensors of shape $\\text{batch_size} \\times seq \\times \\text{in_size}$)\n",
        "* mask ~ boolean mask for Masked Multi-head Attention (in the decoder)\n",
        "\n",
        "$$ Attention(Q, K, V) = softmax\\Bigg(\\frac{QK^T}{\\sqrt{d_k}}\\Bigg) \\cdot V $$\n",
        "$$ MultiHead(Q, K, V) = Concat(head_1, ..., head_H) \\cdot W^O \\quad ; \\quad head_i = Attention(Q W_i^Q, K W_i^K, V W_i^V)$$"
      ],
      "metadata": {
        "id": "ygtUy2dGZAC8"
      }
    },
    {
      "cell_type": "code",
      "source": [
        "class MultiHeadAttention(nn.Module):\n",
        "    \"\"\"\n",
        "    Class to calculate Multi-head attention (or Masked Multi-head attention for the decoder) operation\n",
        "    \"\"\"\n",
        "    def __init__(self, in_size, head_size, num_heads, out_size, query_in_size=None):\n",
        "        \"\"\"\n",
        "        Args:\n",
        "            in_size: embedding size of input\n",
        "            head_size: hidden size of Q, K, V matrices\n",
        "            num_heads: number of heads\n",
        "            out_size: output embedding size\n",
        "            query_in_size: embedding size of input for query (if not provided - same as in_size)\n",
        "        \"\"\"\n",
        "        super(MultiHeadAttention, self).__init__()\n",
        "\n",
        "        # Store all passed layer hyperparameters\n",
        "        self.in_size = in_size\n",
        "        self.head_size = head_size\n",
        "        self.num_heads = num_heads\n",
        "        self.out_size = out_size\n",
        "        self.query_in_size = self.in_size if query_in_size is None else query_in_size\n",
        "\n",
        "        # Linear transformations for Q, K, V matrices (get all Q, K, V matrices directly)\n",
        "        self.query_matrix = nn.Linear(self.query_in_size, self.num_heads * self.head_size, bias=False)\n",
        "        self.key_matrix = nn.Linear(self.in_size, self.num_heads * self.head_size, bias=False)\n",
        "        self.value_matrix = nn.Linear(self.in_size, self.num_heads * self.head_size, bias=False)\n",
        "        # Linear transformation for concatenating heads\n",
        "        self.out = nn.Linear(self.head_size * self.num_heads, self.out_size)\n",
        "\n",
        "    def forward(self, query, key, value, mask=None):\n",
        "        \"\"\"\n",
        "        Args:\n",
        "           query : tensor for query\n",
        "           key : tensor for key\n",
        "           value : tensor for value\n",
        "           mask: mask for the decoder\n",
        "\n",
        "        Returns:\n",
        "           output vector from multihead attention\n",
        "        \"\"\"\n",
        "        # Tensors come with the shape batch_size x seq_len x in_size\n",
        "        batch_size = key.size(0)\n",
        "        seq_len = key.size(1)\n",
        "\n",
        "        # The number of tokens in the query will differ for the decoder\n",
        "        query_seq_len = query.size(1)\n",
        "\n",
        "        # Apply linear transformations to the input\n",
        "        q = self.query_matrix(query)  # (batch_size, query_seq_len, head_size * num_heads)\n",
        "        k = self.key_matrix(key)  # (batch_size, seq_len, head_size * num_heads)\n",
        "        v = self.value_matrix(value)  # (batch_size, seq_len, head_size * num_heads)\n",
        "\n",
        "        q = q.view(batch_size, query_seq_len, self.num_heads, self.head_size).transpose(1,2)  # (batch_size, num_heads, query_seq_len, head_size)\n",
        "        k = k.view(batch_size, seq_len, self.num_heads, self.head_size).transpose(1,2)  # (batch_size, num_heads, seq_len, head_size)\n",
        "        v = v.view(batch_size, seq_len, self.num_heads, self.head_size).transpose(1,2)  # (batch_size, num_heads, seq_len, head_size)\n",
        "\n",
        "        # Считаем релевантность\n",
        "        relevance = q @ k.transpose(2, 3) / math.sqrt(self.head_size)  # (batch_size, num_heads, query_seq_len, seq_len)\n",
        "\n",
        "        # Если есть маска (для декодера), то заполняем значения по маске как минус бесконечность (чтобы exp(r) = 0 в softmax)\n",
        "        if mask is not None:\n",
        "             relevance = relevance.masked_fill(mask, -torch.inf)\n",
        "\n",
        "        # Получаем вероятности\n",
        "        relevance = F.softmax(relevance, dim=-1)\n",
        "\n",
        "        # Считаем выходы из каждой головы\n",
        "        head_i = torch.matmul(relevance, v)  # (batch_size, num_heads, query_seq_len, head_size)\n",
        "\n",
        "        # Конкатенируем выходы\n",
        "        concat = head_i.transpose(1,2).reshape(batch_size, query_seq_len, self.head_size * self.num_heads)  # (batch_size, query_seq_len, num_heads * head_size)\n",
        "\n",
        "        return self.out(concat)  # (batch_size, query_seq_len, out_size)"
      ],
      "metadata": {
        "id": "U2vT-vwEY6_S"
      },
      "execution_count": null,
      "outputs": []
    },
    {
      "cell_type": "markdown",
      "source": [
        "#### Testing MultiHeadAttention for the encoder"
      ],
      "metadata": {
        "id": "xyTV7cqXay9b"
      }
    },
    {
      "cell_type": "code",
      "source": [
        "tmp_layer = MultiHeadAttention(\n",
        "    in_size=10,\n",
        "    head_size=4,\n",
        "    num_heads=3,\n",
        "    out_size=15,\n",
        ")\n",
        "\n",
        "tmp_layer"
      ],
      "metadata": {
        "colab": {
          "base_uri": "https://localhost:8080/"
        },
        "id": "8A6Af8DEazNa",
        "outputId": "80961b75-44ba-4ef2-839d-31f34e4e5fb9"
      },
      "execution_count": null,
      "outputs": [
        {
          "output_type": "execute_result",
          "data": {
            "text/plain": [
              "MultiHeadAttention(\n",
              "  (query_matrix): Linear(in_features=10, out_features=12, bias=False)\n",
              "  (key_matrix): Linear(in_features=10, out_features=12, bias=False)\n",
              "  (value_matrix): Linear(in_features=10, out_features=12, bias=False)\n",
              "  (out): Linear(in_features=12, out_features=15, bias=True)\n",
              ")"
            ]
          },
          "metadata": {},
          "execution_count": 3
        }
      ]
    },
    {
      "cell_type": "code",
      "source": [
        "# Check in normal forward pass from the encoder\n",
        "tmp_input = torch.rand(2, 5, 10)\n",
        "\n",
        "print(\"Encoder-like input, no mask\")\n",
        "print(f'Input shape: {tmp_input.shape}')\n",
        "tmp_output = tmp_layer(tmp_input, tmp_input, tmp_input)\n",
        "print(f'Output shape: {tmp_output.shape}')\n",
        "\n",
        "del tmp_input, tmp_output"
      ],
      "metadata": {
        "colab": {
          "base_uri": "https://localhost:8080/"
        },
        "id": "3ilYxygIa33f",
        "outputId": "6412f347-246a-47c8-d7bc-3368ee9743c2"
      },
      "execution_count": null,
      "outputs": [
        {
          "output_type": "stream",
          "name": "stdout",
          "text": [
            "Encoder-like input, no mask\n",
            "Input shape: torch.Size([2, 5, 10])\n",
            "Output shape: torch.Size([2, 5, 15])\n"
          ]
        }
      ]
    },
    {
      "cell_type": "markdown",
      "source": [
        "#### Testing MultiHeadAttention for a mixture of encoder and decoder"
      ],
      "metadata": {
        "id": "if4DQzHFbAml"
      }
    },
    {
      "cell_type": "code",
      "source": [
        "tmp_layer = MultiHeadAttention(\n",
        "    in_size=10,\n",
        "    head_size=4,\n",
        "    num_heads=3,\n",
        "    out_size=15,\n",
        "    query_in_size=12,\n",
        ")\n",
        "\n",
        "tmp_layer"
      ],
      "metadata": {
        "colab": {
          "base_uri": "https://localhost:8080/"
        },
        "id": "ATH6d79ibCn2",
        "outputId": "295cfa64-4d6b-4ad6-839d-e8879728c6fc"
      },
      "execution_count": null,
      "outputs": [
        {
          "output_type": "execute_result",
          "data": {
            "text/plain": [
              "MultiHeadAttention(\n",
              "  (query_matrix): Linear(in_features=12, out_features=12, bias=False)\n",
              "  (key_matrix): Linear(in_features=10, out_features=12, bias=False)\n",
              "  (value_matrix): Linear(in_features=10, out_features=12, bias=False)\n",
              "  (out): Linear(in_features=12, out_features=15, bias=True)\n",
              ")"
            ]
          },
          "metadata": {},
          "execution_count": 5
        }
      ]
    },
    {
      "cell_type": "code",
      "source": [
        "# Check forward pass in the decoder, where we mix information from the encoder and decoder\n",
        "tmp_input_q = torch.rand(2, 5, 12)\n",
        "tmp_input_kv = torch.rand(2, 7, 10)\n",
        "\n",
        "print(\"Encoder+Decoder-like input, no mask\")\n",
        "print(f'Input Q shape: {tmp_input_q.shape}')\n",
        "print(f'Input KV shape: {tmp_input_kv.shape}')\n",
        "\n",
        "tmp_output = tmp_layer(tmp_input_q, tmp_input_kv, tmp_input_kv)\n",
        "print(f'Output shape: {tmp_output.shape}')\n",
        "\n",
        "del tmp_input_q, tmp_input_kv, tmp_output"
      ],
      "metadata": {
        "colab": {
          "base_uri": "https://localhost:8080/"
        },
        "id": "FDNk8KctbEZj",
        "outputId": "e7ecebaf-e8aa-466e-b9d8-b3652ef25a91"
      },
      "execution_count": null,
      "outputs": [
        {
          "output_type": "stream",
          "name": "stdout",
          "text": [
            "Encoder+Decoder-like input, no mask\n",
            "Input Q shape: torch.Size([2, 5, 12])\n",
            "Input KV shape: torch.Size([2, 7, 10])\n",
            "Output shape: torch.Size([2, 5, 15])\n"
          ]
        }
      ]
    },
    {
      "cell_type": "markdown",
      "source": [
        "#### Triangular Mask in the decoder"
      ],
      "metadata": {
        "id": "4_a1I_XnbKSJ"
      }
    },
    {
      "cell_type": "code",
      "source": [
        "def make_decoder_mask(decoder_embed):\n",
        "    \"\"\"\n",
        "    Make mask for decoder Masked Multi-head Attention based on input sequence\n",
        "    Args:\n",
        "        decoder_embed: decoder sequence after embed\n",
        "    Returns:\n",
        "        mask: mask for Masked Multi-head Attention\n",
        "    \"\"\"\n",
        "    batch_size, decoder_seq_len, _ = decoder_embed.shape\n",
        "    mask = torch.tril(torch.ones((decoder_seq_len, decoder_seq_len))).expand(\n",
        "        batch_size, 1, decoder_seq_len, decoder_seq_len\n",
        "    ).bool()\n",
        "    return mask"
      ],
      "metadata": {
        "id": "sEZC_D24bMSe"
      },
      "execution_count": null,
      "outputs": []
    },
    {
      "cell_type": "markdown",
      "source": [
        "#### Testing MultiHeadAttention for the decoder with a mask"
      ],
      "metadata": {
        "id": "0-KrJQ0ObP3c"
      }
    },
    {
      "cell_type": "code",
      "source": [
        "tmp_input = torch.rand(1, 10, 256)\n",
        "tmp_mask = make_decoder_mask(tmp_input)\n",
        "print(f\"Mask shape: {tmp_mask.shape}\")\n",
        "\n",
        "# Visualize the mask\n",
        "fig, ax = plt.subplots(figsize=(10, 10))\n",
        "plt.imshow(tmp_mask[0, 0, :, :])\n",
        "\n",
        "# Add text labels\n",
        "for i in range(tmp_mask.shape[-2]):\n",
        "    for j in range(tmp_mask.shape[-1]):\n",
        "        text = plt.text(j, i, tmp_mask[0, 0, i, j].item(), ha=\"center\", va=\"center\", color=\"red\")\n",
        "plt.show()"
      ],
      "metadata": {
        "colab": {
          "base_uri": "https://localhost:8080/",
          "height": 848
        },
        "id": "qQjcaCqrbR-J",
        "outputId": "8c8e8714-31b9-4caa-8cab-9854d8c2cf90"
      },
      "execution_count": null,
      "outputs": [
        {
          "output_type": "stream",
          "name": "stdout",
          "text": [
            "Mask shape: torch.Size([1, 1, 10, 10])\n"
          ]
        },
        {
          "output_type": "display_data",
          "data": {
            "text/plain": [
              "<Figure size 1000x1000 with 1 Axes>"
            ],
            "image/png": "[encoded data removed]"
          },
          "metadata": {}
        }
      ]
    },
    {
      "cell_type": "code",
      "source": [
        "tmp_layer = MultiHeadAttention(\n",
        "    in_size=10,\n",
        "    head_size=4,\n",
        "    num_heads=3,\n",
        "    out_size=15,\n",
        ")\n",
        "\n",
        "tmp_layer"
      ],
      "metadata": {
        "colab": {
          "base_uri": "https://localhost:8080/"
        },
        "id": "cu4gFFYBbWMa",
        "outputId": "58aba7a8-a103-4f17-b658-ff445ab6ac8d"
      },
      "execution_count": null,
      "outputs": [
        {
          "output_type": "execute_result",
          "data": {
            "text/plain": [
              "MultiHeadAttention(\n",
              "  (query_matrix): Linear(in_features=10, out_features=12, bias=False)\n",
              "  (key_matrix): Linear(in_features=10, out_features=12, bias=False)\n",
              "  (value_matrix): Linear(in_features=10, out_features=12, bias=False)\n",
              "  (out): Linear(in_features=12, out_features=15, bias=True)\n",
              ")"
            ]
          },
          "metadata": {},
          "execution_count": 9
        }
      ]
    },
    {
      "cell_type": "code",
      "source": [
        "tmp_input = torch.rand(2, 5, 10)\n",
        "tmp_mask = make_decoder_mask(tmp_input)\n",
        "\n",
        "print(\"Decoder-like input, with mask\")\n",
        "print(f'Input shape: {tmp_input.shape}')\n",
        "print(f'Mask shape: {tmp_mask.shape}')\n",
        "\n",
        "tmp_output = tmp_layer(tmp_input, tmp_input, tmp_input, tmp_mask)\n",
        "print(f'Output shape: {tmp_output.shape}')\n",
        "\n",
        "del tmp_input, tmp_mask, tmp_output"
      ],
      "metadata": {
        "colab": {
          "base_uri": "https://localhost:8080/"
        },
        "id": "gPA5Ba6UbYFP",
        "outputId": "7790ce5c-c428-42e0-8d84-da9994d01c1e"
      },
      "execution_count": null,
      "outputs": [
        {
          "output_type": "stream",
          "name": "stdout",
          "text": [
            "Decoder-like input, with mask\n",
            "Input shape: torch.Size([2, 5, 10])\n",
            "Mask shape: torch.Size([2, 1, 5, 5])\n",
            "Output shape: torch.Size([2, 5, 15])\n"
          ]
        }
      ]
    },
    {
      "cell_type": "markdown",
      "source": [
        "### 1.2 Positional Encoding\n",
        "\n",
        "#### Main class - PositionalEncoding\n",
        "\n",
        "**Initialization:**\n",
        "* max_seq_len ~ the maximum token length of the sequence\n",
        "* emb_size ~ the embedding size of the input\n",
        "\n",
        "**Forward:**\n",
        "* _decoder_emb_ ~ embeddings of tokens from the decoder input\n",
        "\n",
        "$$\\text{PE}_{(\\text{pos}, 2i)} = sin\\Bigg( \\frac{\\text{pos}}{10000^{\\frac{2i}{\\text{emb_size}}}} \\Bigg) \\quad ; \\quad \\text{PE}_{(\\text{pos}, 2i + 1)} = cos\\Bigg( \\frac{\\text{pos}}{10000^{\\frac{2i}{\\text{emb_size}}}} \\Bigg)$$"
      ],
      "metadata": {
        "id": "nqpfRJPlbVpf"
      }
    },
    {
      "cell_type": "code",
      "source": [
        "class PositionalEncoding(nn.Module):\n",
        "    \"\"\"\n",
        "    Class to calculate Positional Encodings, suggested in `Attention is all you need [Vaswaniet al., 2017]`\n",
        "    \"\"\"\n",
        "    def __init__(self, max_seq_len, emb_size):\n",
        "        \"\"\"\n",
        "        Args:\n",
        "            max_seq_len: max length of input sequence\n",
        "            emb_size: demension of embedding\n",
        "        \"\"\"\n",
        "        super(PositionalEncoding, self).__init__()\n",
        "\n",
        "        # Запишем все переданые гиперпараметры слоя\n",
        "        self.max_seq_len = max_seq_len\n",
        "        self.emb_size = emb_size\n",
        "\n",
        "        # Посчитаем позиционные эмбеддинги в тензорном виде\n",
        "        pos = torch.arange(max_seq_len)[:, None]\n",
        "        inds = torch.arange(emb_size)[None, ::2]\n",
        "\n",
        "        pe = torch.zeros(max_seq_len, self.emb_size)\n",
        "        pe[:, ::2] = torch.sin(pos / (10000 ** ((2 * inds) / self.emb_size)))\n",
        "        pe[:, 1::2] = torch.cos(pos / (10000 ** ((2 * inds) / self.emb_size)))\n",
        "        pe = pe.unsqueeze(0)\n",
        "\n",
        "        # Добавляем полученный тензор как параметр, который будет сохранятся вместе с моделью, но не будет обучаться\n",
        "        self.register_buffer('pe', pe)\n",
        "\n",
        "\n",
        "    def forward(self, decoder_emb):\n",
        "        \"\"\"\n",
        "        Args:\n",
        "            decoder_emb: decoder sequence after embed\n",
        "        Returns:\n",
        "            output: input with positional encodings\n",
        "        \"\"\"\n",
        "        # Тензоры приходят размера batch_size x seq_len x emb_size\n",
        "        seq_len = decoder_emb.size(1)\n",
        "\n",
        "        # Прибавляем позиционные эмбеддинги\n",
        "        return decoder_emb + self.pe[:, :seq_len]"
      ],
      "metadata": {
        "id": "oo22_W7gbql2"
      },
      "execution_count": null,
      "outputs": []
    },
    {
      "cell_type": "markdown",
      "source": [
        "#### Testing PositionalEncoding"
      ],
      "metadata": {
        "id": "CUlw9fUJbvW0"
      }
    },
    {
      "cell_type": "code",
      "source": [
        "tmp_layer = PositionalEncoding(\n",
        "    max_seq_len=5,\n",
        "    emb_size=10,\n",
        ")\n",
        "\n",
        "tmp_layer"
      ],
      "metadata": {
        "colab": {
          "base_uri": "https://localhost:8080/"
        },
        "id": "Qq1zwI4dbysA",
        "outputId": "d4f63ad9-9541-4cfb-c9f3-e80528fba9d8"
      },
      "execution_count": null,
      "outputs": [
        {
          "output_type": "execute_result",
          "data": {
            "text/plain": [
              "PositionalEncoding()"
            ]
          },
          "metadata": {},
          "execution_count": 15
        }
      ]
    },
    {
      "cell_type": "code",
      "source": [
        "tmp_input = torch.rand(2, 5, 10)\n",
        "\n",
        "print(f'Input shape: {tmp_input.shape}')\n",
        "tmp_output = tmp_layer(tmp_input)\n",
        "print(f'Output shape: {tmp_output.shape}')\n",
        "\n",
        "del tmp_input, tmp_output"
      ],
      "metadata": {
        "colab": {
          "base_uri": "https://localhost:8080/"
        },
        "id": "xUDvRmxLb1RM",
        "outputId": "5eae2649-e3de-4500-b55e-0d3471d8b2d5"
      },
      "execution_count": null,
      "outputs": [
        {
          "output_type": "stream",
          "name": "stdout",
          "text": [
            "Input shape: torch.Size([2, 5, 10])\n",
            "Output shape: torch.Size([2, 5, 10])\n"
          ]
        }
      ]
    },
    {
      "cell_type": "markdown",
      "source": [
        "#### Let’s examine the positional encodings."
      ],
      "metadata": {
        "id": "b1SMX9aWb4-a"
      }
    },
    {
      "cell_type": "code",
      "source": [
        "tmp_layer.pe.shape"
      ],
      "metadata": {
        "colab": {
          "base_uri": "https://localhost:8080/"
        },
        "id": "zLpl1jWzb9As",
        "outputId": "68c293f3-800c-45eb-bec3-86db51edbe24"
      },
      "execution_count": null,
      "outputs": [
        {
          "output_type": "execute_result",
          "data": {
            "text/plain": [
              "torch.Size([1, 5, 10])"
            ]
          },
          "metadata": {},
          "execution_count": 17
        }
      ]
    },
    {
      "cell_type": "markdown",
      "source": [
        "the article substantiates [Attention is all you need [Vaswaniet al., 2017]](https://www.semanticscholar.org/reader/204e3073870fae3d05bcbc2f6a8e263d9b72e776):\n",
        "\n",
        "We chose this function because we hypothesized it would allow the model to easily learn to attend by\n",
        "relative positions, since for any fixed offset k, $PE_{pos+k}$ can be represented as a linear function of $PE_{pos}$."
      ],
      "metadata": {
        "id": "iMmyRsQ1b_rF"
      }
    },
    {
      "cell_type": "code",
      "source": [
        "tmp_layer = PositionalEncoding(\n",
        "    max_seq_len=200,\n",
        "    emb_size=100,\n",
        ")\n",
        "\n",
        "fig, ax = plt.subplots(figsize=(10, 10))\n",
        "plt.imshow(tmp_layer.pe[0, :, :], aspect=\"auto\")\n",
        "plt.xlabel(\"emb_size\")\n",
        "plt.ylabel(\"max_seq_len\")\n",
        "plt.show()"
      ],
      "metadata": {
        "colab": {
          "base_uri": "https://localhost:8080/",
          "height": 853
        },
        "id": "G5gnKgeGcQPR",
        "outputId": "ffa750f7-0827-4793-a10a-1ced840035db"
      },
      "execution_count": null,
      "outputs": [
        {
          "output_type": "display_data",
          "data": {
            "text/plain": [
              "<Figure size 1000x1000 with 1 Axes>"
            ],
            "image/png": "[encoded data removed]"
          },
          "metadata": {}
        }
      ]
    },
    {
      "cell_type": "code",
      "source": [
        "fig, ax = plt.subplots(figsize=(10, 10))\n",
        "plt.imshow(tmp_layer.pe[0, :, 50:], aspect=\"auto\")\n",
        "plt.xlabel(\"emb_size\")\n",
        "plt.ylabel(\"max_seq_len\")\n",
        "plt.show()"
      ],
      "metadata": {
        "colab": {
          "base_uri": "https://localhost:8080/",
          "height": 853
        },
        "id": "ovX65ZQUcVSJ",
        "outputId": "cae6d154-c719-4272-d1de-19de4b4f43d9"
      },
      "execution_count": null,
      "outputs": [
        {
          "output_type": "display_data",
          "data": {
            "text/plain": [
              "<Figure size 1000x1000 with 1 Axes>"
            ],
            "image/png": "[encoded data removed]"
          },
          "metadata": {}
        }
      ]
    },
    {
      "cell_type": "code",
      "source": [
        "fig, ax = plt.subplots(figsize=(10, 10))\n",
        "plt.imshow(tmp_layer.pe[0, :, 50:51], aspect=\"auto\")\n",
        "plt.xlabel(\"emb_size\")\n",
        "plt.ylabel(\"max_seq_len\")\n",
        "plt.show()"
      ],
      "metadata": {
        "colab": {
          "base_uri": "https://localhost:8080/",
          "height": 853
        },
        "id": "Emdh9j6acXH5",
        "outputId": "516ee9f3-2db2-4fb0-a0f9-51054bd52c84"
      },
      "execution_count": null,
      "outputs": [
        {
          "output_type": "display_data",
          "data": {
            "text/plain": [
              "<Figure size 1000x1000 with 1 Axes>"
            ],
            "image/png": "[encoded data removed]"
          },
          "metadata": {}
        }
      ]
    },
    {
      "cell_type": "code",
      "source": [
        "fig, ax = plt.subplots(figsize=(10, 10))\n",
        "plt.imshow(tmp_layer.pe[0, 50:51, :], aspect=\"auto\")\n",
        "plt.xlabel(\"emb_size\")\n",
        "plt.ylabel(\"max_seq_len\")\n",
        "plt.show()"
      ],
      "metadata": {
        "colab": {
          "base_uri": "https://localhost:8080/",
          "height": 850
        },
        "id": "NDEk6GqycZRX",
        "outputId": "fdf0ca04-be31-4076-818f-eedbdc176aaf"
      },
      "execution_count": null,
      "outputs": [
        {
          "output_type": "display_data",
          "data": {
            "text/plain": [
              "<Figure size 1000x1000 with 1 Axes>"
            ],
            "image/png": "[encoded data removed]"
          },
          "metadata": {}
        }
      ]
    },
    {
      "cell_type": "markdown",
      "source": [
        "### 1.3 Encoder\n",
        "\n",
        "#### Picture\n",
        "\n",
        "<img src=\"https://www.researchgate.net/profile/Ehsan-Amjadian/publication/352239001/figure/fig1/AS:1033334390013952@1623377525434/Detailed-view-of-a-transformer-encoder-block-It-first-passes-the-input-through-an.jpg\" width=500>"
      ],
      "metadata": {
        "id": "n9MLJLySca14"
      }
    },
    {
      "cell_type": "markdown",
      "source": [
        "#### TransformerEncoderBlock\n",
        "\n",
        "**Initialization:**\n",
        "\n",
        "* in_size ~ input embedding size\n",
        "* head_size ~ size of the Q, K, V matrices embeddings after transformation\n",
        "* num_heads ~ number of attention heads\n",
        "* out_size ~ output embedding size for attention and the block\n",
        "* ff_hidden_size ~ hidden size for feed-forward layers\n",
        "* dropout_p ~ dropout probability\n",
        "* query_in_size ~ input embedding size for the query (if None, defaults to in_size)\n",
        "\n",
        "Forward:\n",
        "\n",
        "*query, key, value ~ 3 tensors (one for each Q, K, and V transformation - these are not yet the tensors $\\text{batch_size} \\times seq \\times d_k$, but tensors of shape $\\text{batch_size} \\times seq \\times \\text{in_size}$)"
      ],
      "metadata": {
        "id": "B24kUNvlckeC"
      }
    },
    {
      "cell_type": "code",
      "source": [
        "class TransformerEncoderBlock(nn.Module):\n",
        "    \"\"\"\n",
        "    Class with one full block within transformer's encoder\n",
        "    \"\"\"\n",
        "    def __init__(self, in_size, head_size, num_heads, out_size, ff_hidden_size, dropout_p=0.2, query_in_size=None):\n",
        "        \"\"\"\n",
        "        Args:\n",
        "           in_size: input embedding size\n",
        "           head_size: size of each attention head\n",
        "           num_heads: number of attention heads\n",
        "           out_size: output embedding size\n",
        "           ff_hidden_size: hidden size for feed forward net\n",
        "           dropout_p: probability for dropout\n",
        "           query_in_size: embedding size of input for query (if not provided - same as in_size)\n",
        "        \"\"\"\n",
        "        super(TransformerEncoderBlock, self).__init__()\n",
        "\n",
        "        # Запишем все переданые гиперпараметры слоя\n",
        "        self.in_size = in_size\n",
        "        self.head_size = head_size\n",
        "        self.num_heads = num_heads\n",
        "        self.out_size = out_size\n",
        "        self.ff_hidden_size = ff_hidden_size\n",
        "        self.dropout_p = dropout_p\n",
        "        self.query_in_size = in_size if query_in_size is None else query_in_size\n",
        "\n",
        "        self.attention = MultiHeadAttention(self.in_size, self.head_size, self.num_heads, self.out_size, self.query_in_size)\n",
        "        # Если выход и вход attention-а имеют разный размер, то используем линейный слой на residual connection-е\n",
        "        self.adapt_residual = nn.Linear(self.query_in_size, self.out_size) if self.query_in_size != self.out_size else nn.Identity()\n",
        "\n",
        "        self.norm_1 = nn.LayerNorm(self.out_size)\n",
        "        self.dropout_1 = nn.Dropout(self.dropout_p)\n",
        "\n",
        "        self.feed_forward = nn.Sequential(OrderedDict([\n",
        "            (\"lin_1\", nn.Linear(self.out_size, self.ff_hidden_size)),\n",
        "            (\"act\", nn.ReLU()),\n",
        "            (\"lin_2\", nn.Linear(self.ff_hidden_size, self.out_size)),\n",
        "        ]))\n",
        "\n",
        "        self.norm_2 = nn.LayerNorm(self.out_size)\n",
        "        self.dropout_2 = nn.Dropout(self.dropout_p)\n",
        "\n",
        "\n",
        "    def forward(self, query, key, value):\n",
        "        \"\"\"\n",
        "        Args:\n",
        "           block_input: input to corresponding block\n",
        "        \"\"\"\n",
        "        # Получаем на вход 3 тензора batch_size x seq_len x in_size\n",
        "        attention_out = self.attention(query, key, value)  # (batch_size, seq_len, out_size)\n",
        "        attention_residual_out = attention_out + self.adapt_residual(query)\n",
        "        norm_1_out = self.dropout_1(self.norm_1(attention_residual_out))\n",
        "\n",
        "        # (batch_size, seq_len, out_size) -> (batch_size, seq_len, ff_hidden_size) -> (batch_size, seq_len, out_size)\n",
        "        ff_out = self.feed_forward(norm_1_out)\n",
        "        ff_residual_out = ff_out + norm_1_out\n",
        "        return self.dropout_2(self.norm_2(ff_residual_out))"
      ],
      "metadata": {
        "id": "vAsmZjqEceXe"
      },
      "execution_count": null,
      "outputs": []
    },
    {
      "cell_type": "markdown",
      "source": [
        "#### Testing TransformerEncoderBlock for the encoder"
      ],
      "metadata": {
        "id": "yTrJWG_bdA9f"
      }
    },
    {
      "cell_type": "code",
      "source": [
        "# We check the standard forward pass from the encoder\n",
        "tmp_layer = TransformerEncoderBlock(\n",
        "    in_size=10,\n",
        "    head_size=7,\n",
        "    num_heads=2,\n",
        "    out_size=15,\n",
        "    ff_hidden_size=20,\n",
        "    dropout_p=0.1,\n",
        ")\n",
        "\n",
        "tmp_layer"
      ],
      "metadata": {
        "colab": {
          "base_uri": "https://localhost:8080/"
        },
        "id": "Wne9dA-BdDEI",
        "outputId": "dbabfef9-790e-40fb-dc14-a372179c88d0"
      },
      "execution_count": null,
      "outputs": [
        {
          "output_type": "execute_result",
          "data": {
            "text/plain": [
              "TransformerEncoderBlock(\n",
              "  (attention): MultiHeadAttention(\n",
              "    (query_matrix): Linear(in_features=10, out_features=14, bias=False)\n",
              "    (key_matrix): Linear(in_features=10, out_features=14, bias=False)\n",
              "    (value_matrix): Linear(in_features=10, out_features=14, bias=False)\n",
              "    (out): Linear(in_features=14, out_features=15, bias=True)\n",
              "  )\n",
              "  (adapt_residual): Linear(in_features=10, out_features=15, bias=True)\n",
              "  (norm_1): LayerNorm((15,), eps=1e-05, elementwise_affine=True)\n",
              "  (dropout_1): Dropout(p=0.1, inplace=False)\n",
              "  (feed_forward): Sequential(\n",
              "    (lin_1): Linear(in_features=15, out_features=20, bias=True)\n",
              "    (act): ReLU()\n",
              "    (lin_2): Linear(in_features=20, out_features=15, bias=True)\n",
              "  )\n",
              "  (norm_2): LayerNorm((15,), eps=1e-05, elementwise_affine=True)\n",
              "  (dropout_2): Dropout(p=0.1, inplace=False)\n",
              ")"
            ]
          },
          "metadata": {},
          "execution_count": 23
        }
      ]
    },
    {
      "cell_type": "code",
      "source": [
        "tmp_input = torch.rand(2, 5, 10)\n",
        "\n",
        "print(\"Encoder-like input\")\n",
        "print(f'Input shape: {tmp_input.shape}')\n",
        "tmp_output = tmp_layer(tmp_input, tmp_input, tmp_input)\n",
        "print(f'Output shape: {tmp_output.shape}')\n",
        "\n",
        "del tmp_input, tmp_output"
      ],
      "metadata": {
        "colab": {
          "base_uri": "https://localhost:8080/"
        },
        "id": "yFAF2RRGdHGu",
        "outputId": "dba6ef98-a7ec-4d34-ec49-c6831f278590"
      },
      "execution_count": null,
      "outputs": [
        {
          "output_type": "stream",
          "name": "stdout",
          "text": [
            "Encoder-like input\n",
            "Input shape: torch.Size([2, 5, 10])\n",
            "Output shape: torch.Size([2, 5, 15])\n"
          ]
        }
      ]
    },
    {
      "cell_type": "markdown",
      "source": [
        "#### Testing TransformerEncoderBlock for the decoder"
      ],
      "metadata": {
        "id": "enhFxwBtdIlQ"
      }
    },
    {
      "cell_type": "code",
      "source": [
        "tmp_layer = TransformerEncoderBlock(\n",
        "    in_size=10,\n",
        "    head_size=7,\n",
        "    num_heads=2,\n",
        "    out_size=15,\n",
        "    ff_hidden_size=20,\n",
        "    dropout_p=0.1,\n",
        "    query_in_size=12,\n",
        ")\n",
        "\n",
        "tmp_layer"
      ],
      "metadata": {
        "colab": {
          "base_uri": "https://localhost:8080/"
        },
        "id": "NFSh5Kzbdas5",
        "outputId": "bb29185c-a9a4-4426-860f-e87467c50ae3"
      },
      "execution_count": null,
      "outputs": [
        {
          "output_type": "execute_result",
          "data": {
            "text/plain": [
              "TransformerEncoderBlock(\n",
              "  (attention): MultiHeadAttention(\n",
              "    (query_matrix): Linear(in_features=12, out_features=14, bias=False)\n",
              "    (key_matrix): Linear(in_features=10, out_features=14, bias=False)\n",
              "    (value_matrix): Linear(in_features=10, out_features=14, bias=False)\n",
              "    (out): Linear(in_features=14, out_features=15, bias=True)\n",
              "  )\n",
              "  (adapt_residual): Linear(in_features=12, out_features=15, bias=True)\n",
              "  (norm_1): LayerNorm((15,), eps=1e-05, elementwise_affine=True)\n",
              "  (dropout_1): Dropout(p=0.1, inplace=False)\n",
              "  (feed_forward): Sequential(\n",
              "    (lin_1): Linear(in_features=15, out_features=20, bias=True)\n",
              "    (act): ReLU()\n",
              "    (lin_2): Linear(in_features=20, out_features=15, bias=True)\n",
              "  )\n",
              "  (norm_2): LayerNorm((15,), eps=1e-05, elementwise_affine=True)\n",
              "  (dropout_2): Dropout(p=0.1, inplace=False)\n",
              ")"
            ]
          },
          "metadata": {},
          "execution_count": 25
        }
      ]
    },
    {
      "cell_type": "code",
      "source": [
        "# We check the forward pass from the decoder, where we mix information from the encoder and decoder."
      ],
      "metadata": {
        "id": "ASr5ZUnWdbuw"
      },
      "execution_count": null,
      "outputs": []
    },
    {
      "cell_type": "code",
      "source": [
        "tmp_input_q = torch.rand(2, 5, 12)\n",
        "tmp_input_kv = torch.rand(2, 7, 10)\n",
        "\n",
        "print(\"Encoder+Decoder-like input\")\n",
        "print(f'Input Q shape: {tmp_input_q.shape}')\n",
        "print(f'Input KV shape: {tmp_input_kv.shape}')\n",
        "\n",
        "tmp_output = tmp_layer(tmp_input_q, tmp_input_kv, tmp_input_kv)\n",
        "print(f'Output shape: {tmp_output.shape}')\n",
        "\n",
        "del tmp_input_q, tmp_input_kv, tmp_output"
      ],
      "metadata": {
        "colab": {
          "base_uri": "https://localhost:8080/"
        },
        "id": "zpId_xxbdfGb",
        "outputId": "45b71cd9-3c28-4b4c-ebba-ee3d2ff3d084"
      },
      "execution_count": null,
      "outputs": [
        {
          "output_type": "stream",
          "name": "stdout",
          "text": [
            "Encoder+Decoder-like input\n",
            "Input Q shape: torch.Size([2, 5, 12])\n",
            "Input KV shape: torch.Size([2, 7, 10])\n",
            "Output shape: torch.Size([2, 5, 15])\n"
          ]
        }
      ]
    },
    {
      "cell_type": "markdown",
      "source": [
        "#### TransformerEncoder\n",
        "\n",
        "**Initialization:**\n",
        "\n",
        "* max_seq_len ~ maximum sequence length in tokens\n",
        "* vocab_size ~ vocabulary size\n",
        "* emb_size ~ input embedding size\n",
        "* num_layers ~ number of TransformerEncoderBlocks\n",
        "* att_out_size ~ output embedding size from attention and the block\n",
        "* att_head_size ~ embedding size of Q, K, V matrices after transformation\n",
        "* num_heads ~ number of attention heads\n",
        "* ff_hidden_size ~ hidden size for the feed-forward layers\n",
        "* dropout_p ~ dropout probability\n",
        "\n",
        "**Forward:**\n",
        "\n",
        "* encoder_input ~ tokens input to the encoder before embedding"
      ],
      "metadata": {
        "id": "bAAU2hKcdh4z"
      }
    },
    {
      "cell_type": "code",
      "source": [
        "class TransformerEncoderBlock(nn.Module):\n",
        "    \"\"\"\n",
        "    Class with one full block within transformer's encoder\n",
        "    \"\"\"\n",
        "    def __init__(self, in_size, head_size, num_heads, out_size, ff_hidden_size, dropout_p=0.2, query_in_size=None):\n",
        "        \"\"\"\n",
        "        Args:\n",
        "           in_size: input embedding size\n",
        "           head_size: size of each attention head\n",
        "           num_heads: number of attention heads\n",
        "           out_size: output embedding size\n",
        "           ff_hidden_size: hidden size for feed-forward net\n",
        "           dropout_p: probability for dropout\n",
        "           query_in_size: embedding size for the query input (if not provided, use in_size)\n",
        "        \"\"\"\n",
        "        super(TransformerEncoderBlock, self).__init__()\n",
        "\n",
        "        # Store all passed layer hyperparameters\n",
        "        self.in_size = in_size\n",
        "        self.head_size = head_size\n",
        "        self.num_heads = num_heads\n",
        "        self.out_size = out_size\n",
        "        self.ff_hidden_size = ff_hidden_size\n",
        "        self.dropout_p = dropout_p\n",
        "        self.query_in_size = in_size if query_in_size is None else query_in_size\n",
        "\n",
        "        self.attention = ...\n",
        "        self.adapt_residual = ...\n",
        "\n",
        "        self.norm_1 = ...\n",
        "        self.dropout_1 = ...\n",
        "\n",
        "        self.feed_forward = nn.Sequential(OrderedDict([\n",
        "            (\"lin_1\", ...),\n",
        "            (\"act\", ...),\n",
        "            (\"lin_2\", ...),\n",
        "        ]))\n",
        "\n",
        "        self.norm_2 = ...\n",
        "        self.dropout_2 = ...\n",
        "\n",
        "\n",
        "    def forward(self, query, key, value):\n",
        "        \"\"\"\n",
        "        Args:\n",
        "           block_input: input to corresponding block\n",
        "        \"\"\"\n",
        "        # Input of 3 tensors batch_size x seq_len x in_size\n",
        "        attention_out = ...\n",
        "        attention_residual_out = ...\n",
        "        norm_1_out = ...\n",
        "\n",
        "        ff_out = ...\n",
        "        ff_residual_out = ...\n",
        "        norm_2_out = ...\n",
        "        return norm_2_out"
      ],
      "metadata": {
        "id": "vg8IP5CqdwAb"
      },
      "execution_count": null,
      "outputs": []
    },
    {
      "cell_type": "markdown",
      "source": [
        "#### Testing TransformerEncoder"
      ],
      "metadata": {
        "id": "1GO52uVYd-Qb"
      }
    },
    {
      "cell_type": "code",
      "source": [
        "tmp_layer = TransformerEncoder(\n",
        "    max_seq_len=20,\n",
        "    vocab_size=10000,\n",
        "    emb_size=10,\n",
        "    num_layers=2,\n",
        "    att_head_size=7,\n",
        "    num_heads=2,\n",
        "    att_out_size=15,\n",
        "    ff_hidden_size=20,\n",
        "    dropout_p=0.1,\n",
        ")\n",
        "\n",
        "tmp_layer"
      ],
      "metadata": {
        "id": "BBlrE6acd9fP"
      },
      "execution_count": null,
      "outputs": []
    },
    {
      "cell_type": "code",
      "source": [
        "tmp_input = torch.randint(10000, (2, 5))\n",
        "\n",
        "print(f'Input shape: {tmp_input.shape}')\n",
        "tmp_output = tmp_layer(tmp_input)\n",
        "print(f'Output shape: {tmp_output.shape}')\n",
        "\n",
        "del tmp_input, tmp_output"
      ],
      "metadata": {
        "id": "6HJUmeR8eFe8"
      },
      "execution_count": null,
      "outputs": []
    },
    {
      "cell_type": "markdown",
      "source": [
        "### 1.4 Decoder\n",
        "\n",
        "#### Picture\n",
        "\n",
        "<img src=\"https://i.pinimg.com/736x/c1/83/1a/c1831a58ecc935fc0f2ef4d35ce4fddb.jpg\" width=500>\n",
        "\n",
        "#### TransformerDecoderBlock\n",
        "\n",
        "**Initialization:**\n",
        "\n",
        "* in_size ~ input embedding size\n",
        "* head_size ~ size of Q, K, V matrix embeddings after transformation\n",
        "* num_heads ~ number of attention heads\n",
        "* out_size ~ output embedding size for attention and the block\n",
        "* ff_hidden_size ~ hidden size for feed-forward layers\n",
        "* dropout_p ~ dropout probability\n",
        "* encoder_out_size ~ encoder output embedding size (if None, defaults to in_size)\n",
        "\n",
        "**Forward:**\n",
        "\n",
        "* decoder_emb ~ tensor from the previous block or embeddings with positional encodings\n",
        "* encoder_output ~ output tensor from the corresponding encoder"
      ],
      "metadata": {
        "id": "RYI4RNxyeGR-"
      }
    },
    {
      "cell_type": "code",
      "source": [
        "class TransformerDecoderBlock(nn.Module):\n",
        "    \"\"\"\n",
        "    Class with one full block within transformer's decoder\n",
        "    \"\"\"\n",
        "    def __init__(self, in_size, head_size, num_heads, out_size, ff_hidden_size, dropout_p=0.2, encoder_out_size=None):\n",
        "        \"\"\"\n",
        "        Args:\n",
        "           in_size: input embedding size\n",
        "           head_size: size of each attention head\n",
        "           num_heads: number of attention heads\n",
        "           out_size: output embedding size\n",
        "           ff_hidden_size: hidden size for feed forward net\n",
        "           dropout_p: probability for dropout\n",
        "           encoder_out_size: embedding size of outputs from encoder (if not provided - same as in_size)\n",
        "        \"\"\"\n",
        "        super(TransformerDecoderBlock, self).__init__()\n",
        "\n",
        "        # Запишем все переданые гиперпараметры слоя\n",
        "        self.in_size = in_size\n",
        "        self.head_size = head_size\n",
        "        self.num_heads = num_heads\n",
        "        self.out_size = out_size\n",
        "        self.ff_hidden_size = ff_hidden_size\n",
        "        self.dropout_p = dropout_p\n",
        "        self.encoder_out_size = in_size if encoder_out_size is None else encoder_out_size\n",
        "\n",
        "\n",
        "        self.masked_attention = MultiHeadAttention(self.in_size, self.head_size, self.num_heads, self.out_size)\n",
        "        # Если выход и вход attention-а имеют разный размер, то используем линейный слой на residual connection-е\n",
        "        self.adapt_residual = nn.Linear(self.in_size, self.out_size) if self.in_size != self.out_size else nn.Identity()\n",
        "        self.norm = nn.LayerNorm(self.out_size)\n",
        "        self.dropout = nn.Dropout(self.dropout_p)\n",
        "        self.encoder_block = TransformerEncoderBlock(self.encoder_out_size, self.head_size, self.num_heads, self.out_size, self.ff_hidden_size, self.dropout_p, self.out_size)\n",
        "\n",
        "\n",
        "    def forward(self, decoder_emb, encoder_output):\n",
        "        \"\"\"\n",
        "        Args:\n",
        "           decoder_emb: decoder sequence after embed\n",
        "           encoder_output: output from encoder\n",
        "        \"\"\"\n",
        "        # Получаем на вход тензор batch_size x seq_len x in_size и тензор batch_size x encoder_seq_len x encoder_out_size\n",
        "        mask = make_decoder_mask(decoder_emb)  # batch_size x 1 x seq_len x seq_len\n",
        "        attention = self.masked_attention(decoder_emb, decoder_emb, decoder_emb, mask=mask)  # batch_size x seq_len x out_size\n",
        "        mmha_out = self.dropout(self.norm(attention + self.adapt_residual(decoder_emb)))\n",
        "\n",
        "        return self.encoder_block(mmha_out, encoder_output, encoder_output)  # batch_size x seq_len x out_size"
      ],
      "metadata": {
        "id": "WI673PnTeOn8"
      },
      "execution_count": null,
      "outputs": []
    },
    {
      "cell_type": "markdown",
      "source": [
        "#### Testing TransformerDecoderBlock"
      ],
      "metadata": {
        "id": "EBJy06RwfHeY"
      }
    },
    {
      "cell_type": "code",
      "source": [
        "tmp_layer = TransformerDecoderBlock(\n",
        "    in_size=10,\n",
        "    head_size=7,\n",
        "    num_heads=2,\n",
        "    out_size=15,\n",
        "    ff_hidden_size=20,\n",
        "    dropout_p=0.1,\n",
        "    encoder_out_size=12,\n",
        ")\n",
        "\n",
        "tmp_layer"
      ],
      "metadata": {
        "colab": {
          "base_uri": "https://localhost:8080/"
        },
        "id": "zsXTUhlIfAkd",
        "outputId": "1c2ea4d0-e0c1-4c05-e2a0-1ec30768c896"
      },
      "execution_count": null,
      "outputs": [
        {
          "output_type": "execute_result",
          "data": {
            "text/plain": [
              "TransformerDecoderBlock(\n",
              "  (masked_attention): MultiHeadAttention(\n",
              "    (query_matrix): Linear(in_features=10, out_features=14, bias=False)\n",
              "    (key_matrix): Linear(in_features=10, out_features=14, bias=False)\n",
              "    (value_matrix): Linear(in_features=10, out_features=14, bias=False)\n",
              "    (out): Linear(in_features=14, out_features=15, bias=True)\n",
              "  )\n",
              "  (adapt_residual): Linear(in_features=10, out_features=15, bias=True)\n",
              "  (norm): LayerNorm((15,), eps=1e-05, elementwise_affine=True)\n",
              "  (dropout): Dropout(p=0.1, inplace=False)\n",
              "  (encoder_block): TransformerEncoderBlock(\n",
              "    (attention): MultiHeadAttention(\n",
              "      (query_matrix): Linear(in_features=15, out_features=14, bias=False)\n",
              "      (key_matrix): Linear(in_features=12, out_features=14, bias=False)\n",
              "      (value_matrix): Linear(in_features=12, out_features=14, bias=False)\n",
              "      (out): Linear(in_features=14, out_features=15, bias=True)\n",
              "    )\n",
              "    (adapt_residual): Identity()\n",
              "    (norm_1): LayerNorm((15,), eps=1e-05, elementwise_affine=True)\n",
              "    (dropout_1): Dropout(p=0.1, inplace=False)\n",
              "    (feed_forward): Sequential(\n",
              "      (lin_1): Linear(in_features=15, out_features=20, bias=True)\n",
              "      (act): ReLU()\n",
              "      (lin_2): Linear(in_features=20, out_features=15, bias=True)\n",
              "    )\n",
              "    (norm_2): LayerNorm((15,), eps=1e-05, elementwise_affine=True)\n",
              "    (dropout_2): Dropout(p=0.1, inplace=False)\n",
              "  )\n",
              ")"
            ]
          },
          "metadata": {},
          "execution_count": 29
        }
      ]
    },
    {
      "cell_type": "code",
      "source": [
        "# Testing the forward pass in the decoder, where we mix information from the encoder and decoder\n",
        "tmp_input_decoder = torch.rand(2, 5, 10)\n",
        "tmp_output_encoder = torch.rand(2, 7, 12)\n",
        "\n",
        "print(\"Encoder+Decoder-like input\")\n",
        "print(f'Decoder input shape: {tmp_input_decoder.shape}')\n",
        "print(f'Encoder output shape: {tmp_output_encoder.shape}')\n",
        "\n",
        "tmp_output = tmp_layer(tmp_input_decoder, tmp_output_encoder)\n",
        "print(f'Output shape: {tmp_output.shape}')\n",
        "\n",
        "del tmp_input_decoder, tmp_output_encoder"
      ],
      "metadata": {
        "colab": {
          "base_uri": "https://localhost:8080/"
        },
        "id": "zulYoZ6GfKVP",
        "outputId": "1c43ddb6-0bee-4885-8516-b023c3ec874f"
      },
      "execution_count": null,
      "outputs": [
        {
          "output_type": "stream",
          "name": "stdout",
          "text": [
            "Encoder+Decoder-like input\n",
            "Decoder input shape: torch.Size([2, 5, 10])\n",
            "Encoder output shape: torch.Size([2, 7, 12])\n",
            "Output shape: torch.Size([2, 5, 15])\n"
          ]
        }
      ]
    },
    {
      "cell_type": "markdown",
      "source": [
        "#### TransformerDecoder\n",
        "\n",
        "**Initialization:**\n",
        "\n",
        "* max_seq_len ~ maximum token length of the sequence\n",
        "* vocab_size ~ size of the vocabulary\n",
        "*\temb_size ~ input embedding size\n",
        "* num_layers ~ number of TransformerEncoderBlocks\n",
        "*\tatt_out_size ~ output embedding size for attention and the block\n",
        "*\tatt_head_size ~ embedding size of the Q, K, V matrices after transformation\n",
        "*\tnum_heads ~ number of attention heads\n",
        "*\tff_hidden_size ~ hidden size for the feed-forward layers\n",
        "*\tdropout_p ~ dropout probability\n",
        "*\tencoder_out_size ~ encoder output embedding size (if None, defaults to in_size)\n",
        "\n",
        "**Forward:**\n",
        "\n",
        "*\tdecoder_input ~ input tokens to the decoder before embeddings\n",
        "*\tencoder_output ~ output tensor from the corresponding encoder"
      ],
      "metadata": {
        "id": "xRLiJy5FfOUq"
      }
    },
    {
      "cell_type": "code",
      "source": [
        "class TransformerDecoder(nn.Module):\n",
        "    \"\"\"\n",
        "    Class for decoder within transformer.\n",
        "    \"\"\"\n",
        "    def __init__(self, max_seq_len, vocab_size, emb_size, num_layers, att_out_size, att_head_size, num_heads, ff_hidden_size, dropout_p, encoder_out_size=None):\n",
        "        \"\"\"\n",
        "        Args:\n",
        "            max_seq_len : maximum length of input sequence\n",
        "            vocab_size: size of the vocabulary\n",
        "            emb_size: embeddings size\n",
        "            num_layers: number of encoder layers\n",
        "            att_out_size: output size for attention and each encoder block\n",
        "            att_head_size: size of each attention head\n",
        "            num_heads: number of heads in multihead attention\n",
        "            ff_hidden_size: hidden size for feed forward net\n",
        "            dropout_p: probability for dropout\n",
        "            encoder_out_size: embedding size of outputs from encoder (if not provided - same as in_size)\n",
        "        \"\"\"\n",
        "        super(TransformerDecoder, self).__init__()\n",
        "\n",
        "        # Запишем все переданые гиперпараметры слоя\n",
        "        self.max_seq_len = max_seq_len\n",
        "        self.vocab_size = vocab_size\n",
        "        self.emb_size = emb_size\n",
        "        self.num_layers = num_layers\n",
        "        self.att_out_size = att_out_size\n",
        "        self.att_head_size = att_head_size\n",
        "        self.num_heads = num_heads\n",
        "        self.ff_hidden_size = ff_hidden_size\n",
        "        self.dropout_p = dropout_p\n",
        "        self.encoder_out_size = in_size if encoder_out_size is None else encoder_out_size\n",
        "\n",
        "        self.embedding_layer = nn.Embedding(self.vocab_size, self.emb_size)\n",
        "        self.positional_encoder = PositionalEncoding(self.max_seq_len, self.emb_size)\n",
        "        self.dropout = nn.Dropout(self.dropout_p)\n",
        "\n",
        "        self.decoder_blocks = nn.ModuleDict({\n",
        "            f\"decoder_block_{i}\": TransformerDecoderBlock(\n",
        "                in_size=self.emb_size if i==0 else self.att_out_size,\n",
        "                head_size=self.att_head_size,\n",
        "                num_heads=self.num_heads,\n",
        "                out_size=self.att_out_size,\n",
        "                ff_hidden_size=self.ff_hidden_size,\n",
        "                dropout_p=self.dropout_p,\n",
        "                encoder_out_size=self.encoder_out_size,\n",
        "            ) for i in range(self.num_layers)\n",
        "        })\n",
        "\n",
        "        self.fc = nn.Linear(self.att_out_size, self.vocab_size)\n",
        "\n",
        "    def forward(self, decoder_input, encoder_output):\n",
        "        \"\"\"\n",
        "        Args:\n",
        "            decoder_input:\n",
        "            encoder_output:\n",
        "        Returns:\n",
        "            out: output vector\n",
        "        \"\"\"\n",
        "        # Получаем на вход batch_size x seq_len и batch_size x encoder_seq_len x encoder_out_size\n",
        "        decoder_emb = self.embedding_layer(decoder_input)  # batch_size x seq_len x emb_size\n",
        "        decoder_emb = self.positional_encoder(decoder_emb)\n",
        "\n",
        "        out = self.dropout(decoder_emb)\n",
        "\n",
        "        for block in self.decoder_blocks.values():\n",
        "            out = block(out, encoder_output)  # batch_size x seq_len x att_out_size\n",
        "\n",
        "        return self.fc(out)"
      ],
      "metadata": {
        "id": "aLuT6JaQfby_"
      },
      "execution_count": null,
      "outputs": []
    },
    {
      "cell_type": "markdown",
      "source": [
        "#### Testing TransformerDecoder"
      ],
      "metadata": {
        "id": "3vBYyZrXzQHW"
      }
    },
    {
      "cell_type": "code",
      "source": [
        "tmp_layer = TransformerDecoder(\n",
        "    max_seq_len=20,\n",
        "    vocab_size=10000,\n",
        "    emb_size=10,\n",
        "    num_layers=2,\n",
        "    att_head_size=7,\n",
        "    num_heads=2,\n",
        "    att_out_size=15,\n",
        "    ff_hidden_size=20,\n",
        "    dropout_p=0.1,\n",
        "    encoder_out_size=12,\n",
        ")\n",
        "\n",
        "tmp_layer"
      ],
      "metadata": {
        "colab": {
          "base_uri": "https://localhost:8080/"
        },
        "id": "WOnV1Y20zV9G",
        "outputId": "2375326f-a3f6-4e95-dea0-aba9ca82b975"
      },
      "execution_count": null,
      "outputs": [
        {
          "output_type": "execute_result",
          "data": {
            "text/plain": [
              "TransformerDecoder(\n",
              "  (embedding_layer): Embedding(10000, 10)\n",
              "  (positional_encoder): PositionalEncoding()\n",
              "  (dropout): Dropout(p=0.1, inplace=False)\n",
              "  (decoder_blocks): ModuleDict(\n",
              "    (decoder_block_0): TransformerDecoderBlock(\n",
              "      (masked_attention): MultiHeadAttention(\n",
              "        (query_matrix): Linear(in_features=10, out_features=14, bias=False)\n",
              "        (key_matrix): Linear(in_features=10, out_features=14, bias=False)\n",
              "        (value_matrix): Linear(in_features=10, out_features=14, bias=False)\n",
              "        (out): Linear(in_features=14, out_features=15, bias=True)\n",
              "      )\n",
              "      (adapt_residual): Linear(in_features=10, out_features=15, bias=True)\n",
              "      (norm): LayerNorm((15,), eps=1e-05, elementwise_affine=True)\n",
              "      (dropout): Dropout(p=0.1, inplace=False)\n",
              "      (encoder_block): TransformerEncoderBlock(\n",
              "        (attention): MultiHeadAttention(\n",
              "          (query_matrix): Linear(in_features=15, out_features=14, bias=False)\n",
              "          (key_matrix): Linear(in_features=12, out_features=14, bias=False)\n",
              "          (value_matrix): Linear(in_features=12, out_features=14, bias=False)\n",
              "          (out): Linear(in_features=14, out_features=15, bias=True)\n",
              "        )\n",
              "        (adapt_residual): Identity()\n",
              "        (norm_1): LayerNorm((15,), eps=1e-05, elementwise_affine=True)\n",
              "        (dropout_1): Dropout(p=0.1, inplace=False)\n",
              "        (feed_forward): Sequential(\n",
              "          (lin_1): Linear(in_features=15, out_features=20, bias=True)\n",
              "          (act): ReLU()\n",
              "          (lin_2): Linear(in_features=20, out_features=15, bias=True)\n",
              "        )\n",
              "        (norm_2): LayerNorm((15,), eps=1e-05, elementwise_affine=True)\n",
              "        (dropout_2): Dropout(p=0.1, inplace=False)\n",
              "      )\n",
              "    )\n",
              "    (decoder_block_1): TransformerDecoderBlock(\n",
              "      (masked_attention): MultiHeadAttention(\n",
              "        (query_matrix): Linear(in_features=15, out_features=14, bias=False)\n",
              "        (key_matrix): Linear(in_features=15, out_features=14, bias=False)\n",
              "        (value_matrix): Linear(in_features=15, out_features=14, bias=False)\n",
              "        (out): Linear(in_features=14, out_features=15, bias=True)\n",
              "      )\n",
              "      (adapt_residual): Identity()\n",
              "      (norm): LayerNorm((15,), eps=1e-05, elementwise_affine=True)\n",
              "      (dropout): Dropout(p=0.1, inplace=False)\n",
              "      (encoder_block): TransformerEncoderBlock(\n",
              "        (attention): MultiHeadAttention(\n",
              "          (query_matrix): Linear(in_features=15, out_features=14, bias=False)\n",
              "          (key_matrix): Linear(in_features=12, out_features=14, bias=False)\n",
              "          (value_matrix): Linear(in_features=12, out_features=14, bias=False)\n",
              "          (out): Linear(in_features=14, out_features=15, bias=True)\n",
              "        )\n",
              "        (adapt_residual): Identity()\n",
              "        (norm_1): LayerNorm((15,), eps=1e-05, elementwise_affine=True)\n",
              "        (dropout_1): Dropout(p=0.1, inplace=False)\n",
              "        (feed_forward): Sequential(\n",
              "          (lin_1): Linear(in_features=15, out_features=20, bias=True)\n",
              "          (act): ReLU()\n",
              "          (lin_2): Linear(in_features=20, out_features=15, bias=True)\n",
              "        )\n",
              "        (norm_2): LayerNorm((15,), eps=1e-05, elementwise_affine=True)\n",
              "        (dropout_2): Dropout(p=0.1, inplace=False)\n",
              "      )\n",
              "    )\n",
              "  )\n",
              "  (fc): Linear(in_features=15, out_features=10000, bias=True)\n",
              ")"
            ]
          },
          "metadata": {},
          "execution_count": 44
        }
      ]
    },
    {
      "cell_type": "code",
      "source": [
        "# We will test the Transformer model by passing through both the encoder and decoder, ensuring that information from the encoder is correctly used in the decoder for sequence generation.\n",
        "tmp_input_decoder = torch.randint(10000, (2, 5))\n",
        "tmp_output_encoder = torch.rand(2, 7, 12)\n",
        "\n",
        "print(\"Encoder+Decoder-like input\")\n",
        "print(f'Decoder input shape: {tmp_input_decoder.shape}')\n",
        "print(f'Encoder output shape: {tmp_output_encoder.shape}')\n",
        "\n",
        "tmp_output = tmp_layer(tmp_input_decoder, tmp_output_encoder)\n",
        "print(f'Output shape: {tmp_output.shape}')\n",
        "\n",
        "del tmp_input_decoder, tmp_output_encoder"
      ],
      "metadata": {
        "id": "WU6z4-uczXom"
      },
      "execution_count": null,
      "outputs": []
    },
    {
      "cell_type": "markdown",
      "source": [
        "### 1.5 Transformer"
      ],
      "metadata": {
        "id": "X7PUNDaT0OBW"
      }
    },
    {
      "cell_type": "code",
      "source": [
        "class Transformer(nn.Module):\n",
        "    \"\"\"\n",
        "    Class for full encoder-decoder transformer\n",
        "    \"\"\"\n",
        "    def __init__(\n",
        "        self,\n",
        "        max_seq_len,\n",
        "        vocab_size,\n",
        "        emb_size,\n",
        "\n",
        "        num_encoder_layers,\n",
        "        enc_att_out_size,\n",
        "        enc_att_head_size,\n",
        "        enc_num_heads,\n",
        "        enc_ff_hidden_size,\n",
        "        enc_dropout_p,\n",
        "\n",
        "        num_decoder_layers,\n",
        "        dec_att_out_size,\n",
        "        dec_att_head_size,\n",
        "        dec_num_heads,\n",
        "        dec_ff_hidden_size,\n",
        "        dec_dropout_p,\n",
        "    ):\n",
        "        super(Transformer, self).__init__()\n",
        "\n",
        "        # Store all the passed hyperparameters of the model\n",
        "        self.max_seq_len = max_seq_len\n",
        "        self.vocab_size = vocab_size\n",
        "        self.emb_size = emb_size\n",
        "\n",
        "        self.num_encoder_layers = num_encoder_layers\n",
        "        self.enc_att_out_size = enc_att_out_size\n",
        "        self.enc_att_head_size = enc_att_head_size\n",
        "        self.enc_num_heads = enc_num_heads\n",
        "        self.enc_ff_hidden_size = enc_ff_hidden_size\n",
        "        self.enc_dropout_p = enc_dropout_p\n",
        "\n",
        "        self.num_decoder_layers = num_decoder_layers\n",
        "        self.dec_att_out_size = dec_att_out_size\n",
        "        self.dec_att_head_size = dec_att_out_size\n",
        "        self.dec_num_heads = dec_num_heads\n",
        "        self.dec_ff_hidden_size = dec_ff_hidden_size\n",
        "        self.dec_dropout_p = dec_dropout_p\n",
        "\n",
        "        # Encoder\n",
        "        self.encoder = TransformerEncoder(\n",
        "            max_seq_len=self.max_seq_len,\n",
        "            vocab_size=self.vocab_size,\n",
        "            emb_size=self.emb_size,\n",
        "            num_layers=self.num_encoder_layers,\n",
        "            att_head_size=self.enc_att_head_size,\n",
        "            num_heads=self.enc_num_heads,\n",
        "            att_out_size=self.enc_att_out_size,\n",
        "            ff_hidden_size=self.enc_ff_hidden_size,\n",
        "            dropout_p=self.enc_dropout_p,\n",
        "        )\n",
        "\n",
        "        # Decoder\n",
        "        self.decoder = TransformerDecoder(\n",
        "            max_seq_len=self.max_seq_len,\n",
        "            vocab_size=self.vocab_size,\n",
        "            emb_size=self.emb_size,\n",
        "            num_layers=self.num_decoder_layers,\n",
        "            att_head_size=self.dec_att_head_size,\n",
        "            num_heads=self.dec_num_heads,\n",
        "            att_out_size=self.dec_att_out_size,\n",
        "            ff_hidden_size=self.dec_ff_hidden_size,\n",
        "            dropout_p=self.dec_dropout_p,\n",
        "            encoder_out_size=self.enc_att_out_size,\n",
        "        )\n",
        "\n",
        "    def forward(self, encoder_input, decoder_input):\n",
        "        \"\"\"\n",
        "        Args:\n",
        "            encoder_input: input to encoder\n",
        "            decoder_input: input to decoder\n",
        "        out:\n",
        "            out: final tensor with logits of each word in vocab\n",
        "        \"\"\"\n",
        "        # Input has shape batch_size x enc_seq_len and batch_size x dec_seq_len\n",
        "        encoder_output = self.encoder(encoder_input)  # (batch_size, enc_seq_len, enc_att_out_size)\n",
        "\n",
        "        return self.decoder(decoder_input, encoder_output)  # (batch_size, dec_seq_len, vocab_size)"
      ],
      "metadata": {
        "id": "nkvAAfu20OYC"
      },
      "execution_count": null,
      "outputs": []
    },
    {
      "cell_type": "markdown",
      "source": [
        "### 1.6 Testing"
      ],
      "metadata": {
        "id": "6ZRK9UIn0Yvg"
      }
    },
    {
      "cell_type": "code",
      "source": [
        "tmp_layer = Transformer(\n",
        "    max_seq_len=20,\n",
        "    vocab_size=10000,\n",
        "    emb_size=10,\n",
        "\n",
        "    num_encoder_layers=3,\n",
        "    enc_att_head_size=7,\n",
        "    enc_num_heads=3,\n",
        "    enc_att_out_size=20,\n",
        "    enc_ff_hidden_size=30,\n",
        "    enc_dropout_p=0.2,\n",
        "\n",
        "    num_decoder_layers=2,\n",
        "    dec_att_head_size=7,\n",
        "    dec_num_heads=2,\n",
        "    dec_att_out_size=15,\n",
        "    dec_ff_hidden_size=20,\n",
        "    dec_dropout_p=0.1,\n",
        ")\n",
        "\n",
        "tmp_layer"
      ],
      "metadata": {
        "id": "365uJEiR0bNS"
      },
      "execution_count": null,
      "outputs": []
    },
    {
      "cell_type": "code",
      "source": [
        "tmp_input_encoder = torch.randint(10000, (2, 9))\n",
        "tmp_input_decoder = torch.randint(10000, (2, 5))\n",
        "\n",
        "print(f'Encoder input shape: {tmp_input_encoder.shape}')\n",
        "print(f'Decoder input shape: {tmp_input_decoder.shape}')\n",
        "\n",
        "tmp_output = tmp_layer(tmp_input_encoder, tmp_input_decoder)\n",
        "print(f'Output shape: {tmp_output.shape}')\n",
        "\n",
        "del tmp_input_decoder, tmp_input_encoder"
      ],
      "metadata": {
        "id": "7eEBPO9F0y3r"
      },
      "execution_count": null,
      "outputs": []
    }
  ],
  "metadata": {
    "colab": {
      "provenance": []
    },
    "kernelspec": {
      "display_name": "Python 3",
      "name": "python3"
    },
    "language_info": {
      "name": "python"
    }
  },
  "nbformat": 4,
  "nbformat_minor": 0
}