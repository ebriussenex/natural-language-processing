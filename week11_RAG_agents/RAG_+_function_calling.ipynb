{
  "cells": [
    {
      "cell_type": "markdown",
      "id": "e80369b9",
      "metadata": {
        "id": "e80369b9"
      },
      "source": [
        "# Seminar: Advanced RAG and Functional Calling with Mistral AI"
      ]
    },
    {
      "cell_type": "markdown",
      "id": "08678f5b",
      "metadata": {
        "id": "08678f5b"
      },
      "source": [
        "\n",
        "In this seminar, we explore advanced techniques in **Retrieval-Augmented Generation (RAG)** and **Functional Calling**\n",
        "using Mistral AI. This updated version fixes existing issues, integrates examples from the official documentation,\n",
        "and adds clear transitions between sections for a better learning experience.\n"
      ]
    },
    {
      "cell_type": "markdown",
      "id": "cd4f3924",
      "metadata": {
        "id": "cd4f3924"
      },
      "source": [
        "## Part 1: Retrieval-Augmented Generation (RAG)"
      ]
    },
    {
      "cell_type": "markdown",
      "id": "04707fc6",
      "metadata": {
        "id": "04707fc6"
      },
      "source": [
        "\n",
        "**Retrieval-Augmented Generation (RAG)** leverages embeddings and retrieval systems to enhance the contextual relevance of\n",
        "responses from language models. We'll walk through:\n",
        "1. Creating embeddings from text.\n",
        "2. Storing and retrieving embeddings.\n",
        "3. Generating context-aware responses.\n",
        "\n",
        "For additional details, refer to the [RAG Guide](https://docs.mistral.ai/guides/rag/).\n"
      ]
    },
    {
      "cell_type": "markdown",
      "id": "d67a4729-cd2f-47e7-a4f6-f84a5677414f",
      "metadata": {
        "id": "d67a4729-cd2f-47e7-a4f6-f84a5677414f"
      },
      "source": [
        "# Basic RAG\n",
        "\n",
        "![](https://github.com/mistralai/cookbook/blob/main/images/rag.png?raw=1)\n",
        "\n",
        "Retrieval-augmented generation (RAG) is an AI framework that synergizes the capabilities of LLMs and information retrieval systems. It’s useful to answer questions or generate content leveraging external knowledge. There are two main steps in RAG: 1) retrieval: retrieve relevant information from a knowledge base with text embeddings stored in a vector store; 2) generation: insert the relevant information to the prompt for the LLM to generate information. In this guide, we will walk through a very basic example of RAG with four implementations:\n",
        "\n",
        "- RAG from scratch with Mistral\n",
        "- RAG with Mistral and LangChain\n",
        "- RAG with Mistral and LlamaIndex\n",
        "- RAG with Mistral and Haystack\n",
        "\n",
        "## RAG from scratch\n",
        "\n",
        "This section aims to guide you through the process of building a basic RAG from scratch. We have two goals: firstly, to offer users a comprehensive understanding of the internal workings of RAG and demystify the underlying mechanisms; secondly, to empower you with the essential foundations needed to build an RAG using the minimum required dependencies.\n",
        "\n",
        "\n",
        "### Import needed packages\n",
        "The first step is to install the needed packages `mistralai` and `faiss-cpu` and import the needed packages:\n",
        "\n"
      ]
    },
    {
      "cell_type": "code",
      "execution_count": 46,
      "id": "b880d1ed-3db0-45a1-807e-1b47e9ce1320",
      "metadata": {
        "colab": {
          "base_uri": "https://localhost:8080/"
        },
        "id": "b880d1ed-3db0-45a1-807e-1b47e9ce1320",
        "outputId": "f41b5bf1-62d8-4e98-8b81-4b4472efab14"
      },
      "outputs": [
        {
          "output_type": "stream",
          "name": "stdout",
          "text": [
            "Requirement already satisfied: faiss-cpu==1.7.4 in /usr/local/lib/python3.10/dist-packages (1.7.4)\n",
            "Requirement already satisfied: mistralai in /usr/local/lib/python3.10/dist-packages (1.2.5)\n",
            "Requirement already satisfied: eval-type-backport<0.3.0,>=0.2.0 in /usr/local/lib/python3.10/dist-packages (from mistralai) (0.2.0)\n",
            "Requirement already satisfied: httpx<0.28.0,>=0.27.0 in /usr/local/lib/python3.10/dist-packages (from mistralai) (0.27.2)\n",
            "Requirement already satisfied: jsonpath-python<2.0.0,>=1.0.6 in /usr/local/lib/python3.10/dist-packages (from mistralai) (1.0.6)\n",
            "Requirement already satisfied: pydantic<3.0.0,>=2.9.0 in /usr/local/lib/python3.10/dist-packages (from mistralai) (2.10.3)\n",
            "Requirement already satisfied: python-dateutil<3.0.0,>=2.8.2 in /usr/local/lib/python3.10/dist-packages (from mistralai) (2.8.2)\n",
            "Requirement already satisfied: typing-inspect<0.10.0,>=0.9.0 in /usr/local/lib/python3.10/dist-packages (from mistralai) (0.9.0)\n",
            "Requirement already satisfied: anyio in /usr/local/lib/python3.10/dist-packages (from httpx<0.28.0,>=0.27.0->mistralai) (3.7.1)\n",
            "Requirement already satisfied: certifi in /usr/local/lib/python3.10/dist-packages (from httpx<0.28.0,>=0.27.0->mistralai) (2024.8.30)\n",
            "Requirement already satisfied: httpcore==1.* in /usr/local/lib/python3.10/dist-packages (from httpx<0.28.0,>=0.27.0->mistralai) (1.0.7)\n",
            "Requirement already satisfied: idna in /usr/local/lib/python3.10/dist-packages (from httpx<0.28.0,>=0.27.0->mistralai) (3.10)\n",
            "Requirement already satisfied: sniffio in /usr/local/lib/python3.10/dist-packages (from httpx<0.28.0,>=0.27.0->mistralai) (1.3.1)\n",
            "Requirement already satisfied: h11<0.15,>=0.13 in /usr/local/lib/python3.10/dist-packages (from httpcore==1.*->httpx<0.28.0,>=0.27.0->mistralai) (0.14.0)\n",
            "Requirement already satisfied: annotated-types>=0.6.0 in /usr/local/lib/python3.10/dist-packages (from pydantic<3.0.0,>=2.9.0->mistralai) (0.7.0)\n",
            "Requirement already satisfied: pydantic-core==2.27.1 in /usr/local/lib/python3.10/dist-packages (from pydantic<3.0.0,>=2.9.0->mistralai) (2.27.1)\n",
            "Requirement already satisfied: typing-extensions>=4.12.2 in /usr/local/lib/python3.10/dist-packages (from pydantic<3.0.0,>=2.9.0->mistralai) (4.12.2)\n",
            "Requirement already satisfied: six>=1.5 in /usr/local/lib/python3.10/dist-packages (from python-dateutil<3.0.0,>=2.8.2->mistralai) (1.16.0)\n",
            "Requirement already satisfied: mypy-extensions>=0.3.0 in /usr/local/lib/python3.10/dist-packages (from typing-inspect<0.10.0,>=0.9.0->mistralai) (1.0.0)\n",
            "Requirement already satisfied: exceptiongroup in /usr/local/lib/python3.10/dist-packages (from anyio->httpx<0.28.0,>=0.27.0->mistralai) (1.2.2)\n"
          ]
        }
      ],
      "source": [
        "! pip install faiss-cpu==1.7.4 mistralai"
      ]
    },
    {
      "cell_type": "code",
      "execution_count": 47,
      "id": "851612c3-ee93-42e3-a1fb-481f89c9410f",
      "metadata": {
        "colab": {
          "base_uri": "https://localhost:8080/"
        },
        "id": "851612c3-ee93-42e3-a1fb-481f89c9410f",
        "outputId": "61a58540-a709-43ca-f23f-e674a9f141b1"
      },
      "outputs": [
        {
          "name": "stdout",
          "output_type": "stream",
          "text": [
            "Type your API Key··········\n"
          ]
        }
      ],
      "source": [
        "from mistralai import Mistral\n",
        "import requests\n",
        "import numpy as np\n",
        "import faiss\n",
        "import os\n",
        "from getpass import getpass\n",
        "\n",
        "api_key= getpass(\"Type your API Key\")\n",
        "client = Mistral(api_key=api_key)"
      ]
    },
    {
      "cell_type": "markdown",
      "id": "fe8609d5-9f27-4202-b0be-36db34412998",
      "metadata": {
        "id": "fe8609d5-9f27-4202-b0be-36db34412998"
      },
      "source": [
        "### Get data\n",
        "\n",
        "In this very simple example, we are getting data from an essay written by Paul Graham:"
      ]
    },
    {
      "cell_type": "code",
      "execution_count": 48,
      "id": "c4c01740-72b4-482c-b61e-e272a734f01f",
      "metadata": {
        "id": "c4c01740-72b4-482c-b61e-e272a734f01f"
      },
      "outputs": [],
      "source": [
        "response = requests.get('https://raw.githubusercontent.com/run-llama/llama_index/main/docs/docs/examples/data/paul_graham/paul_graham_essay.txt')\n",
        "text = response.text"
      ]
    },
    {
      "cell_type": "markdown",
      "id": "15af760a-f074-4339-81f9-4f370034355e",
      "metadata": {
        "id": "15af760a-f074-4339-81f9-4f370034355e"
      },
      "source": [
        "We can also save the essay in a local file:"
      ]
    },
    {
      "cell_type": "code",
      "execution_count": 49,
      "id": "f4a2313f-686f-4b08-a553-cf9006af73eb",
      "metadata": {
        "id": "f4a2313f-686f-4b08-a553-cf9006af73eb"
      },
      "outputs": [],
      "source": [
        "f = open('essay.txt', 'w')\n",
        "f.write(text)\n",
        "f.close()"
      ]
    },
    {
      "cell_type": "code",
      "execution_count": 50,
      "id": "f03f47af-a20b-4122-a114-74b9748ff543",
      "metadata": {
        "colab": {
          "base_uri": "https://localhost:8080/"
        },
        "id": "f03f47af-a20b-4122-a114-74b9748ff543",
        "outputId": "28108bec-8fc7-4359-9a6f-cb2426e3d949"
      },
      "outputs": [
        {
          "output_type": "execute_result",
          "data": {
            "text/plain": [
              "75014"
            ]
          },
          "metadata": {},
          "execution_count": 50
        }
      ],
      "source": [
        "len(text)"
      ]
    },
    {
      "cell_type": "markdown",
      "id": "aad1aa61-9e1c-46c8-ae5e-61855df440f9",
      "metadata": {
        "id": "aad1aa61-9e1c-46c8-ae5e-61855df440f9"
      },
      "source": [
        "## Split document into chunks\n",
        "\n",
        "In a RAG system, it is crucial to split the document into smaller chunks so that it’s more effective to identify and retrieve the most relevant information in the retrieval process later. In this example, we simply split our text by character, combine 2048 characters into each chunk, and we get 37 chunks."
      ]
    },
    {
      "cell_type": "code",
      "source": [
        "chunk_size = 2048\n",
        "chunks = [text[i:i + chunk_size] for i in range(0, len(text), chunk_size)]\n",
        "len(chunks)"
      ],
      "metadata": {
        "colab": {
          "base_uri": "https://localhost:8080/"
        },
        "id": "hKAt_sZGJUz7",
        "outputId": "be9ac007-cdd4-4147-ed89-95bb4acaff1e"
      },
      "id": "hKAt_sZGJUz7",
      "execution_count": 51,
      "outputs": [
        {
          "output_type": "execute_result",
          "data": {
            "text/plain": [
              "37"
            ]
          },
          "metadata": {},
          "execution_count": 51
        }
      ]
    },
    {
      "cell_type": "code",
      "source": [
        "chunks[0]"
      ],
      "metadata": {
        "colab": {
          "base_uri": "https://localhost:8080/",
          "height": 125
        },
        "id": "kbmOMR__JbsB",
        "outputId": "81c0931c-d123-4e20-f351-f1393b508820"
      },
      "id": "kbmOMR__JbsB",
      "execution_count": 52,
      "outputs": [
        {
          "output_type": "execute_result",
          "data": {
            "text/plain": [
              "'\\n\\nWhat I Worked On\\n\\nFebruary 2021\\n\\nBefore college the two main things I worked on, outside of school, were writing and programming. I didn\\'t write essays. I wrote what beginning writers were supposed to write then, and probably still are: short stories. My stories were awful. They had hardly any plot, just characters with strong feelings, which I imagined made them deep.\\n\\nThe first programs I tried writing were on the IBM 1401 that our school district used for what was then called \"data processing.\" This was in 9th grade, so I was 13 or 14. The school district\\'s 1401 happened to be in the basement of our junior high school, and my friend Rich Draves and I got permission to use it. It was like a mini Bond villain\\'s lair down there, with all these alien-looking machines — CPU, disk drives, printer, card reader — sitting up on a raised floor under bright fluorescent lights.\\n\\nThe language we used was an early version of Fortran. You had to type programs on punch cards, then stack them in the card reader and press a button to load the program into memory and run it. The result would ordinarily be to print something on the spectacularly loud printer.\\n\\nI was puzzled by the 1401. I couldn\\'t figure out what to do with it. And in retrospect there\\'s not much I could have done with it. The only form of input to programs was data stored on punched cards, and I didn\\'t have any data stored on punched cards. The only other option was to do things that didn\\'t rely on any input, like calculate approximations of pi, but I didn\\'t know enough math to do anything interesting of that type. So I\\'m not surprised I can\\'t remember any programs I wrote, because they can\\'t have done much. My clearest memory is of the moment I learned it was possible for programs not to terminate, when one of mine didn\\'t. On a machine without time-sharing, this was a social as well as a technical error, as the data center manager\\'s expression made clear.\\n\\nWith microcomputers, everything changed. Now you could have a computer sitting right in front of you, on '"
            ],
            "application/vnd.google.colaboratory.intrinsic+json": {
              "type": "string"
            }
          },
          "metadata": {},
          "execution_count": 52
        }
      ]
    },
    {
      "cell_type": "code",
      "source": [
        "import time\n",
        "import numpy as np\n",
        "\n",
        "def get_text_embeddings_in_batches(chunks, batch_size=5, retries=3, delay=5):\n",
        "    embeddings = []\n",
        "    for i in range(0, len(chunks), batch_size):\n",
        "        batch = chunks[i:i+batch_size]\n",
        "        for attempt in range(retries):\n",
        "            try:\n",
        "                # Create embeddings for a batch of chunks\n",
        "                embeddings_batch_response = client.embeddings.create(\n",
        "                    model=\"mistral-embed\",\n",
        "                    inputs=batch\n",
        "                )\n",
        "                # Collect embeddings from the response\n",
        "                embeddings.extend([resp.embedding for resp in embeddings_batch_response.data])\n",
        "                break  # Exit retry loop if successful\n",
        "            except Exception as e:\n",
        "                # Handle rate limit errors (429) explicitly\n",
        "                if \"429\" in str(e):\n",
        "                    print(f\"Rate limit hit. Retrying batch {i//batch_size + 1} in {delay} seconds...\")\n",
        "                    time.sleep(delay)  # Wait before retrying\n",
        "                else:\n",
        "                    print(f\"Error in batch {i//batch_size + 1}: {e}\")\n",
        "                    raise e  # Reraise if it's a different error\n",
        "        else:\n",
        "            raise RuntimeError(f\"Failed to fetch embeddings for batch {i//batch_size + 1} after {retries} retries.\")\n",
        "    return np.array(embeddings)\n",
        "\n",
        "# Generate embeddings with batching\n",
        "text_embeddings = get_text_embeddings_in_batches(chunks, batch_size=5)\n",
        "print(f\"Generated embeddings for {len(text_embeddings)} chunks.\")"
      ],
      "metadata": {
        "colab": {
          "base_uri": "https://localhost:8080/"
        },
        "id": "jXcC7GHaJY3i",
        "outputId": "2d829a38-300b-461a-e6f5-41842c4c77c1"
      },
      "id": "jXcC7GHaJY3i",
      "execution_count": 54,
      "outputs": [
        {
          "output_type": "stream",
          "name": "stdout",
          "text": [
            "Rate limit hit. Retrying batch 3 in 5 seconds...\n",
            "Rate limit hit. Retrying batch 5 in 5 seconds...\n",
            "Rate limit hit. Retrying batch 8 in 5 seconds...\n",
            "Generated embeddings for 37 chunks.\n"
          ]
        }
      ]
    },
    {
      "cell_type": "code",
      "source": [
        "text_embeddings.shape"
      ],
      "metadata": {
        "colab": {
          "base_uri": "https://localhost:8080/"
        },
        "id": "DWO7ssGiIfet",
        "outputId": "d97e3ac7-9af9-4f59-d14d-8a239cd311a8"
      },
      "id": "DWO7ssGiIfet",
      "execution_count": 55,
      "outputs": [
        {
          "output_type": "execute_result",
          "data": {
            "text/plain": [
              "(37, 1024)"
            ]
          },
          "metadata": {},
          "execution_count": 55
        }
      ]
    },
    {
      "cell_type": "markdown",
      "source": [
        "### Load into a vector database\n",
        "Once we get the text embeddings, a common practice is to store them in a vector database for efficient processing and retrieval. There are several vector database to choose from. In our simple example, we are using an open-source vector database Faiss, which allows for efficient similarity search.  \n",
        "\n",
        "With Faiss, we instantiate an instance of the Index class, which defines the indexing structure of the vector database. We then add the text embeddings to this indexing structure."
      ],
      "metadata": {
        "id": "KwWNjtsJRd7m"
      },
      "id": "KwWNjtsJRd7m"
    },
    {
      "cell_type": "code",
      "source": [
        "d = text_embeddings.shape[1]\n",
        "index = faiss.IndexFlatL2(d)\n",
        "index.add(text_embeddings)"
      ],
      "metadata": {
        "id": "YKuF6eEcRkuQ"
      },
      "id": "YKuF6eEcRkuQ",
      "execution_count": 56,
      "outputs": []
    },
    {
      "cell_type": "markdown",
      "source": [
        "#### Considerations:\n",
        "- **Vector database**: When selecting a vector database, there are several factors to consider including speed, scalability, cloud management, advanced filtering, and open-source vs. closed-source.\n",
        "\n",
        "### Create embeddings for a question\n",
        "Whenever users ask a question, we also need to create embeddings for this question using the same embedding models as before.\n"
      ],
      "metadata": {
        "id": "MEe8uDs7Rnt4"
      },
      "id": "MEe8uDs7Rnt4"
    },
    {
      "cell_type": "code",
      "execution_count": 57,
      "id": "e27c72ed",
      "metadata": {
        "colab": {
          "base_uri": "https://localhost:8080/"
        },
        "id": "e27c72ed",
        "outputId": "2468d2d7-1126-4807-b50e-fc769542e3bb"
      },
      "outputs": [
        {
          "output_type": "execute_result",
          "data": {
            "text/plain": [
              "(1, 1024)"
            ]
          },
          "metadata": {},
          "execution_count": 57
        }
      ],
      "source": [
        "question = \"What were the two main things the author worked on before college?\"\n",
        "question_embeddings = np.array([get_text_embedding(question)])\n",
        "question_embeddings.shape"
      ]
    },
    {
      "cell_type": "code",
      "source": [
        "question_embeddings"
      ],
      "metadata": {
        "colab": {
          "base_uri": "https://localhost:8080/"
        },
        "id": "E0_R4ckyRqUC",
        "outputId": "655f5631-a663-42a4-d234-9fb444a54600"
      },
      "id": "E0_R4ckyRqUC",
      "execution_count": 58,
      "outputs": [
        {
          "output_type": "execute_result",
          "data": {
            "text/plain": [
              "array([[-0.05456543,  0.03518677,  0.03723145, ..., -0.02763367,\n",
              "        -0.00327873,  0.00323677]])"
            ]
          },
          "metadata": {},
          "execution_count": 58
        }
      ]
    },
    {
      "cell_type": "markdown",
      "source": [
        "#### Considerations:\n",
        "- Hypothetical Document Embeddings (HyDE): In some cases, the user’s question might not be the most relevant query to use for identifying the relevant context. Instead, it maybe more effective to generate a hypothetical answer or a hypothetical document based on the user’s query and use the embeddings of the generated text to retrieve similar text chunks.\n",
        "\n",
        "### Retrieve similar chunks from the vector database\n",
        "We can perform a search on the vector database with `index.search`, which takes two arguments: the first is the vector of the question embeddings, and the second is the number of similar vectors to retrieve. This function returns the distances and the indices of the most similar vectors to the question vector in the vector database. Then based on the returned indices, we can retrieve the actual relevant text chunks that correspond to those indices."
      ],
      "metadata": {
        "id": "hmIKnu7RRvM0"
      },
      "id": "hmIKnu7RRvM0"
    },
    {
      "cell_type": "code",
      "source": [
        "D, I = index.search(question_embeddings, k=2)\n",
        "print(I)"
      ],
      "metadata": {
        "colab": {
          "base_uri": "https://localhost:8080/"
        },
        "id": "Q5NldJKMRyJ5",
        "outputId": "4d59fa87-2c04-4862-f79f-2fa8010f8fdc"
      },
      "id": "Q5NldJKMRyJ5",
      "execution_count": 59,
      "outputs": [
        {
          "output_type": "stream",
          "name": "stdout",
          "text": [
            "[[0 3]]\n"
          ]
        }
      ]
    },
    {
      "cell_type": "code",
      "source": [
        "retrieved_chunk = [chunks[i] for i in I.tolist()[0]]\n",
        "print(retrieved_chunk)"
      ],
      "metadata": {
        "colab": {
          "base_uri": "https://localhost:8080/"
        },
        "id": "1c_JJ8oER0bM",
        "outputId": "118d00b1-32b3-4678-c7db-57ce1e0fa354"
      },
      "id": "1c_JJ8oER0bM",
      "execution_count": 60,
      "outputs": [
        {
          "output_type": "stream",
          "name": "stdout",
          "text": [
            "['\\n\\nWhat I Worked On\\n\\nFebruary 2021\\n\\nBefore college the two main things I worked on, outside of school, were writing and programming. I didn\\'t write essays. I wrote what beginning writers were supposed to write then, and probably still are: short stories. My stories were awful. They had hardly any plot, just characters with strong feelings, which I imagined made them deep.\\n\\nThe first programs I tried writing were on the IBM 1401 that our school district used for what was then called \"data processing.\" This was in 9th grade, so I was 13 or 14. The school district\\'s 1401 happened to be in the basement of our junior high school, and my friend Rich Draves and I got permission to use it. It was like a mini Bond villain\\'s lair down there, with all these alien-looking machines — CPU, disk drives, printer, card reader — sitting up on a raised floor under bright fluorescent lights.\\n\\nThe language we used was an early version of Fortran. You had to type programs on punch cards, then stack them in the card reader and press a button to load the program into memory and run it. The result would ordinarily be to print something on the spectacularly loud printer.\\n\\nI was puzzled by the 1401. I couldn\\'t figure out what to do with it. And in retrospect there\\'s not much I could have done with it. The only form of input to programs was data stored on punched cards, and I didn\\'t have any data stored on punched cards. The only other option was to do things that didn\\'t rely on any input, like calculate approximations of pi, but I didn\\'t know enough math to do anything interesting of that type. So I\\'m not surprised I can\\'t remember any programs I wrote, because they can\\'t have done much. My clearest memory is of the moment I learned it was possible for programs not to terminate, when one of mine didn\\'t. On a machine without time-sharing, this was a social as well as a technical error, as the data center manager\\'s expression made clear.\\n\\nWith microcomputers, everything changed. Now you could have a computer sitting right in front of you, on ', 'arvard accepted me, so that was where I went.\\n\\nI don\\'t remember the moment it happened, or if there even was a specific moment, but during the first year of grad school I realized that AI, as practiced at the time, was a hoax. By which I mean the sort of AI in which a program that\\'s told \"the dog is sitting on the chair\" translates this into some formal representation and adds it to the list of things it knows.\\n\\nWhat these programs really showed was that there\\'s a subset of natural language that\\'s a formal language. But a very proper subset. It was clear that there was an unbridgeable gap between what they could do and actually understanding natural language. It was not, in fact, simply a matter of teaching SHRDLU more words. That whole way of doing AI, with explicit data structures representing concepts, was not going to work. Its brokenness did, as so often happens, generate a lot of opportunities to write papers about various band-aids that could be applied to it, but it was never going to get us Mike.\\n\\nSo I looked around to see what I could salvage from the wreckage of my plans, and there was Lisp. I knew from experience that Lisp was interesting for its own sake and not just for its association with AI, even though that was the main reason people cared about it at the time. So I decided to focus on Lisp. In fact, I decided to write a book about Lisp hacking. It\\'s scary to think how little I knew about Lisp hacking when I started writing that book. But there\\'s nothing like writing a book about something to help you learn it. The book, On Lisp, wasn\\'t published till 1993, but I wrote much of it in grad school.\\n\\nComputer Science is an uneasy alliance between two halves, theory and systems. The theory people prove things, and the systems people build things. I wanted to build things. I had plenty of respect for theory — indeed, a sneaking suspicion that it was the more admirable of the two halves — but building things seemed so much more exciting.\\n\\nThe problem with systems work, though, was that it didn\\'t last. ']\n"
          ]
        }
      ]
    },
    {
      "cell_type": "markdown",
      "source": [
        "#### Considerations:\n",
        "- **Retrieval methods**: There are a lot different retrieval strategies. In our example, we are showing a simple similarity search with embeddings. Sometimes when there is metadata available for the data, it’s better to filter the data based on the metadata first before performing similarity search. There are also other statistical retrieval methods like TF-IDF and BM25 that use frequency and distribution of terms in the document to identify relevant text chunks.\n",
        "- **Retrieved document**: Do we always retrieve individual text chunk as it is? Not always.\n",
        "    - Sometimes, we would like to include more context around the actual retrieved text chunk. We call the actual retrieve text chunk “child chunk” and our goal is to retrieve a larger “parent chunk” that the “child chunk” belongs to.\n",
        "    - On occasion, we might also want to provide weights to our retrieve documents. For example, a time-weighted approach would help us retrieve the most recent document.\n",
        "    - One common issue in the retrieval process is the “lost in the middle” problem where the information in the middle of a long context gets lost. Our models have tried to mitigate this issue. For example, in the passkey task, our models have demonstrated the ability to find a \"needle in a haystack\" by retrieving a randomly inserted passkey within a long prompt, up to 32k context length. However, it is worth considering experimenting with reordering the document to determine if placing the most relevant chunks at the beginning and end leads to improved results.\n",
        "  \n",
        "### Combine context and question in a prompt and generate response\n",
        "\n",
        "Finally, we can offer the retrieved text chunks as the context information within the prompt. Here is a prompt template where we can include both the retrieved text and user question in the prompt."
      ],
      "metadata": {
        "id": "894mlHIXR3LP"
      },
      "id": "894mlHIXR3LP"
    },
    {
      "cell_type": "code",
      "source": [
        "prompt = f\"\"\"\n",
        "Context information is below.\n",
        "---------------------\n",
        "{retrieved_chunk}\n",
        "---------------------\n",
        "Given the context information and not prior knowledge, answer the query.\n",
        "Query: {question}\n",
        "Answer:\n",
        "\"\"\""
      ],
      "metadata": {
        "id": "ezfACE3WR5M4"
      },
      "id": "ezfACE3WR5M4",
      "execution_count": 61,
      "outputs": []
    },
    {
      "cell_type": "code",
      "source": [
        "def run_mistral(user_message, model=\"mistral-large-latest\"):\n",
        "    messages = [\n",
        "        {\n",
        "            \"role\": \"user\", \"content\": user_message\n",
        "        }\n",
        "    ]\n",
        "    chat_response = client.chat.complete(\n",
        "        model=model,\n",
        "        messages=messages\n",
        "    )\n",
        "    return (chat_response.choices[0].message.content)"
      ],
      "metadata": {
        "id": "OwayEN27R69q"
      },
      "id": "OwayEN27R69q",
      "execution_count": 62,
      "outputs": []
    },
    {
      "cell_type": "code",
      "source": [
        "run_mistral(prompt)"
      ],
      "metadata": {
        "colab": {
          "base_uri": "https://localhost:8080/",
          "height": 35
        },
        "id": "UX1lFB9VR8sF",
        "outputId": "87ae4923-bad6-47f7-a6a5-e9ce650fc181"
      },
      "id": "UX1lFB9VR8sF",
      "execution_count": 63,
      "outputs": [
        {
          "output_type": "execute_result",
          "data": {
            "text/plain": [
              "'Before college, the two main things the author worked on were writing and programming.'"
            ],
            "application/vnd.google.colaboratory.intrinsic+json": {
              "type": "string"
            }
          },
          "metadata": {},
          "execution_count": 63
        }
      ]
    },
    {
      "cell_type": "markdown",
      "source": [
        "#### Considerations:\n",
        "- Prompting techniques: Most of the prompting techniques can be used in developing a RAG system as well. For example, we can use few-shot learning to guide the model’s answers by providing a few examples. Additionally, we can explicitly instruct the model to format answers in a certain way.\n",
        "\n",
        "\n",
        "In the next sections, we are going to show you how to do a similar basic RAG with some of the popular RAG frameworks. We will start with LlamaIndex and add other frameworks in the future."
      ],
      "metadata": {
        "id": "fjzdmyM-R_Sz"
      },
      "id": "fjzdmyM-R_Sz"
    },
    {
      "cell_type": "markdown",
      "id": "b7960338",
      "metadata": {
        "id": "b7960338"
      },
      "source": [
        "## Part 2: Functional Calling and Agents"
      ]
    },
    {
      "cell_type": "markdown",
      "source": [],
      "metadata": {
        "id": "V-b364ErRuCU"
      },
      "id": "V-b364ErRuCU"
    },
    {
      "cell_type": "markdown",
      "id": "faf5cf22",
      "metadata": {
        "id": "faf5cf22"
      },
      "source": [
        "\n",
        "**Functional Calling** in Mistral AI enables models to interface with external functions and APIs.\n",
        "We'll create and use a simple function to demonstrate this capability.\n",
        "\n",
        "For more information, see the [Functional Calling Guide](https://docs.mistral.ai/capabilities/function_calling/).\n"
      ]
    },
    {
      "cell_type": "markdown",
      "id": "68e4ec58",
      "metadata": {
        "id": "68e4ec58"
      },
      "source": [
        "### Advanced Functional Calling Examples"
      ]
    },
    {
      "cell_type": "code",
      "execution_count": 64,
      "id": "6394f6ae",
      "metadata": {
        "colab": {
          "base_uri": "https://localhost:8080/"
        },
        "id": "6394f6ae",
        "outputId": "d9962a8d-4d00-4f77-87b7-f58774c34c4d"
      },
      "outputs": [
        {
          "output_type": "execute_result",
          "data": {
            "text/plain": [
              "{'user_id': '12345', 'name': 'Alex', 'account_status': 'Active'}"
            ]
          },
          "metadata": {},
          "execution_count": 64
        }
      ],
      "source": [
        "\n",
        "# Example: Function to fetch user profile details\n",
        "def get_user_profile(user_id):\n",
        "    # Simulate an API call\n",
        "    return {\"user_id\": user_id, \"name\": \"Alex\", \"account_status\": \"Active\"}\n",
        "\n",
        "# JSON schema for the function\n",
        "function_schema = {\n",
        "    \"name\": \"get_user_profile\",\n",
        "    \"description\": \"Fetch user profile details by user ID.\",\n",
        "    \"parameters\": {\n",
        "        \"type\": \"object\",\n",
        "        \"properties\": {\n",
        "            \"user_id\": {\"type\": \"string\", \"description\": \"Unique identifier for the user.\"}\n",
        "        },\n",
        "        \"required\": [\"user_id\"]\n",
        "    }\n",
        "}\n",
        "\n",
        "# Example usage\n",
        "user_id = \"12345\"\n",
        "profile = get_user_profile(user_id)\n",
        "profile\n"
      ]
    },
    {
      "cell_type": "markdown",
      "id": "880a6b92",
      "metadata": {
        "id": "880a6b92"
      },
      "source": [
        "\n",
        "This demonstrates a simple function call for retrieving user profile details.\n",
        "You can extend this approach for more complex scenarios like interacting with databases or external APIs.\n"
      ]
    },
    {
      "cell_type": "markdown",
      "id": "20246870",
      "metadata": {
        "id": "20246870"
      },
      "source": [
        "## Part 3: Agent-Based Systems"
      ]
    },
    {
      "cell_type": "markdown",
      "id": "d4c504df",
      "metadata": {
        "id": "d4c504df"
      },
      "source": [
        "\n",
        "Agents are autonomous entities designed to handle specific tasks or contexts. Using Mistral AI, you can create multi-agent systems for complex workflows.\n"
      ]
    },
    {
      "cell_type": "code",
      "source": [
        "!pip install git+https://github.com/openai/swarm.git"
      ],
      "metadata": {
        "colab": {
          "base_uri": "https://localhost:8080/"
        },
        "id": "v4b2_fdcSJHY",
        "outputId": "8d683d17-8ec6-4519-b22f-4a7c4b5c73ab"
      },
      "id": "v4b2_fdcSJHY",
      "execution_count": 76,
      "outputs": [
        {
          "output_type": "stream",
          "name": "stdout",
          "text": [
            "Collecting git+https://github.com/openai/swarm.git\n",
            "  Cloning https://github.com/openai/swarm.git to /tmp/pip-req-build-odaeaeae\n",
            "  Running command git clone --filter=blob:none --quiet https://github.com/openai/swarm.git /tmp/pip-req-build-odaeaeae\n",
            "  Resolved https://github.com/openai/swarm.git to commit 9db581cecaacea0d46a933d6453c312b034dbf47\n",
            "  Installing build dependencies ... \u001b[?25l\u001b[?25hdone\n",
            "  Getting requirements to build wheel ... \u001b[?25l\u001b[?25hdone\n",
            "  Preparing metadata (pyproject.toml) ... \u001b[?25l\u001b[?25hdone\n",
            "Requirement already satisfied: numpy in /usr/local/lib/python3.10/dist-packages (from swarm==0.1.0) (1.26.4)\n",
            "Requirement already satisfied: openai>=1.33.0 in /usr/local/lib/python3.10/dist-packages (from swarm==0.1.0) (1.57.0)\n",
            "Requirement already satisfied: pytest in /usr/local/lib/python3.10/dist-packages (from swarm==0.1.0) (8.3.4)\n",
            "Requirement already satisfied: requests in /usr/local/lib/python3.10/dist-packages (from swarm==0.1.0) (2.32.3)\n",
            "Requirement already satisfied: tqdm in /usr/local/lib/python3.10/dist-packages (from swarm==0.1.0) (4.66.6)\n",
            "Collecting pre-commit (from swarm==0.1.0)\n",
            "  Downloading pre_commit-4.0.1-py2.py3-none-any.whl.metadata (1.3 kB)\n",
            "Collecting instructor (from swarm==0.1.0)\n",
            "  Downloading instructor-1.7.0-py3-none-any.whl.metadata (17 kB)\n",
            "Requirement already satisfied: anyio<5,>=3.5.0 in /usr/local/lib/python3.10/dist-packages (from openai>=1.33.0->swarm==0.1.0) (3.7.1)\n",
            "Requirement already satisfied: distro<2,>=1.7.0 in /usr/local/lib/python3.10/dist-packages (from openai>=1.33.0->swarm==0.1.0) (1.9.0)\n",
            "Requirement already satisfied: httpx<1,>=0.23.0 in /usr/local/lib/python3.10/dist-packages (from openai>=1.33.0->swarm==0.1.0) (0.27.2)\n",
            "Requirement already satisfied: jiter<1,>=0.4.0 in /usr/local/lib/python3.10/dist-packages (from openai>=1.33.0->swarm==0.1.0) (0.8.0)\n",
            "Requirement already satisfied: pydantic<3,>=1.9.0 in /usr/local/lib/python3.10/dist-packages (from openai>=1.33.0->swarm==0.1.0) (2.8.2)\n",
            "Requirement already satisfied: sniffio in /usr/local/lib/python3.10/dist-packages (from openai>=1.33.0->swarm==0.1.0) (1.3.1)\n",
            "Requirement already satisfied: typing-extensions<5,>=4.11 in /usr/local/lib/python3.10/dist-packages (from openai>=1.33.0->swarm==0.1.0) (4.12.2)\n",
            "Requirement already satisfied: aiohttp<4.0.0,>=3.9.1 in /usr/local/lib/python3.10/dist-packages (from instructor->swarm==0.1.0) (3.11.9)\n",
            "Requirement already satisfied: docstring-parser<0.17,>=0.16 in /usr/local/lib/python3.10/dist-packages (from instructor->swarm==0.1.0) (0.16)\n",
            "Requirement already satisfied: jinja2<4.0.0,>=3.1.4 in /usr/local/lib/python3.10/dist-packages (from instructor->swarm==0.1.0) (3.1.4)\n",
            "Collecting jiter<1,>=0.4.0 (from openai>=1.33.0->swarm==0.1.0)\n",
            "  Downloading jiter-0.6.1-cp310-cp310-manylinux_2_17_x86_64.manylinux2014_x86_64.whl.metadata (5.2 kB)\n",
            "Requirement already satisfied: pydantic-core<3.0.0,>=2.18.0 in /usr/local/lib/python3.10/dist-packages (from instructor->swarm==0.1.0) (2.20.1)\n",
            "Requirement already satisfied: rich<14.0.0,>=13.7.0 in /usr/local/lib/python3.10/dist-packages (from instructor->swarm==0.1.0) (13.7.1)\n",
            "Requirement already satisfied: tenacity<10.0.0,>=9.0.0 in /usr/local/lib/python3.10/dist-packages (from instructor->swarm==0.1.0) (9.0.0)\n",
            "Requirement already satisfied: typer<1.0.0,>=0.9.0 in /usr/local/lib/python3.10/dist-packages (from instructor->swarm==0.1.0) (0.15.0)\n",
            "Requirement already satisfied: charset-normalizer<4,>=2 in /usr/local/lib/python3.10/dist-packages (from requests->swarm==0.1.0) (3.4.0)\n",
            "Requirement already satisfied: idna<4,>=2.5 in /usr/local/lib/python3.10/dist-packages (from requests->swarm==0.1.0) (3.10)\n",
            "Requirement already satisfied: urllib3<3,>=1.21.1 in /usr/local/lib/python3.10/dist-packages (from requests->swarm==0.1.0) (2.2.3)\n",
            "Requirement already satisfied: certifi>=2017.4.17 in /usr/local/lib/python3.10/dist-packages (from requests->swarm==0.1.0) (2024.8.30)\n",
            "Collecting cfgv>=2.0.0 (from pre-commit->swarm==0.1.0)\n",
            "  Downloading cfgv-3.4.0-py2.py3-none-any.whl.metadata (8.5 kB)\n",
            "Collecting identify>=1.0.0 (from pre-commit->swarm==0.1.0)\n",
            "  Downloading identify-2.6.3-py2.py3-none-any.whl.metadata (4.4 kB)\n",
            "Collecting nodeenv>=0.11.1 (from pre-commit->swarm==0.1.0)\n",
            "  Downloading nodeenv-1.9.1-py2.py3-none-any.whl.metadata (21 kB)\n",
            "Requirement already satisfied: pyyaml>=5.1 in /usr/local/lib/python3.10/dist-packages (from pre-commit->swarm==0.1.0) (6.0.2)\n",
            "Collecting virtualenv>=20.10.0 (from pre-commit->swarm==0.1.0)\n",
            "  Downloading virtualenv-20.28.0-py3-none-any.whl.metadata (4.4 kB)\n",
            "Requirement already satisfied: exceptiongroup>=1.0.0rc8 in /usr/local/lib/python3.10/dist-packages (from pytest->swarm==0.1.0) (1.2.2)\n",
            "Requirement already satisfied: iniconfig in /usr/local/lib/python3.10/dist-packages (from pytest->swarm==0.1.0) (2.0.0)\n",
            "Requirement already satisfied: packaging in /usr/local/lib/python3.10/dist-packages (from pytest->swarm==0.1.0) (24.2)\n",
            "Requirement already satisfied: pluggy<2,>=1.5 in /usr/local/lib/python3.10/dist-packages (from pytest->swarm==0.1.0) (1.5.0)\n",
            "Requirement already satisfied: tomli>=1 in /usr/local/lib/python3.10/dist-packages (from pytest->swarm==0.1.0) (2.2.1)\n",
            "Requirement already satisfied: aiohappyeyeballs>=2.3.0 in /usr/local/lib/python3.10/dist-packages (from aiohttp<4.0.0,>=3.9.1->instructor->swarm==0.1.0) (2.4.4)\n",
            "Requirement already satisfied: aiosignal>=1.1.2 in /usr/local/lib/python3.10/dist-packages (from aiohttp<4.0.0,>=3.9.1->instructor->swarm==0.1.0) (1.3.1)\n",
            "Requirement already satisfied: async-timeout<6.0,>=4.0 in /usr/local/lib/python3.10/dist-packages (from aiohttp<4.0.0,>=3.9.1->instructor->swarm==0.1.0) (4.0.3)\n",
            "Requirement already satisfied: attrs>=17.3.0 in /usr/local/lib/python3.10/dist-packages (from aiohttp<4.0.0,>=3.9.1->instructor->swarm==0.1.0) (24.2.0)\n",
            "Requirement already satisfied: frozenlist>=1.1.1 in /usr/local/lib/python3.10/dist-packages (from aiohttp<4.0.0,>=3.9.1->instructor->swarm==0.1.0) (1.5.0)\n",
            "Requirement already satisfied: multidict<7.0,>=4.5 in /usr/local/lib/python3.10/dist-packages (from aiohttp<4.0.0,>=3.9.1->instructor->swarm==0.1.0) (6.1.0)\n",
            "Requirement already satisfied: propcache>=0.2.0 in /usr/local/lib/python3.10/dist-packages (from aiohttp<4.0.0,>=3.9.1->instructor->swarm==0.1.0) (0.2.1)\n",
            "Requirement already satisfied: yarl<2.0,>=1.17.0 in /usr/local/lib/python3.10/dist-packages (from aiohttp<4.0.0,>=3.9.1->instructor->swarm==0.1.0) (1.18.3)\n",
            "Requirement already satisfied: httpcore==1.* in /usr/local/lib/python3.10/dist-packages (from httpx<1,>=0.23.0->openai>=1.33.0->swarm==0.1.0) (1.0.7)\n",
            "Requirement already satisfied: h11<0.15,>=0.13 in /usr/local/lib/python3.10/dist-packages (from httpcore==1.*->httpx<1,>=0.23.0->openai>=1.33.0->swarm==0.1.0) (0.14.0)\n",
            "Requirement already satisfied: MarkupSafe>=2.0 in /usr/local/lib/python3.10/dist-packages (from jinja2<4.0.0,>=3.1.4->instructor->swarm==0.1.0) (3.0.2)\n",
            "Requirement already satisfied: annotated-types>=0.4.0 in /usr/local/lib/python3.10/dist-packages (from pydantic<3,>=1.9.0->openai>=1.33.0->swarm==0.1.0) (0.7.0)\n",
            "Requirement already satisfied: markdown-it-py>=2.2.0 in /usr/local/lib/python3.10/dist-packages (from rich<14.0.0,>=13.7.0->instructor->swarm==0.1.0) (3.0.0)\n",
            "Requirement already satisfied: pygments<3.0.0,>=2.13.0 in /usr/local/lib/python3.10/dist-packages (from rich<14.0.0,>=13.7.0->instructor->swarm==0.1.0) (2.18.0)\n",
            "Requirement already satisfied: click>=8.0.0 in /usr/local/lib/python3.10/dist-packages (from typer<1.0.0,>=0.9.0->instructor->swarm==0.1.0) (8.1.7)\n",
            "Requirement already satisfied: shellingham>=1.3.0 in /usr/local/lib/python3.10/dist-packages (from typer<1.0.0,>=0.9.0->instructor->swarm==0.1.0) (1.5.4)\n",
            "Collecting distlib<1,>=0.3.7 (from virtualenv>=20.10.0->pre-commit->swarm==0.1.0)\n",
            "  Downloading distlib-0.3.9-py2.py3-none-any.whl.metadata (5.2 kB)\n",
            "Requirement already satisfied: filelock<4,>=3.12.2 in /usr/local/lib/python3.10/dist-packages (from virtualenv>=20.10.0->pre-commit->swarm==0.1.0) (3.16.1)\n",
            "Requirement already satisfied: platformdirs<5,>=3.9.1 in /usr/local/lib/python3.10/dist-packages (from virtualenv>=20.10.0->pre-commit->swarm==0.1.0) (4.3.6)\n",
            "Requirement already satisfied: mdurl~=0.1 in /usr/local/lib/python3.10/dist-packages (from markdown-it-py>=2.2.0->rich<14.0.0,>=13.7.0->instructor->swarm==0.1.0) (0.1.2)\n",
            "Downloading instructor-1.7.0-py3-none-any.whl (70 kB)\n",
            "\u001b[2K   \u001b[90m━━━━━━━━━━━━━━━━━━━━━━━━━━━━━━━━━━━━━━━━\u001b[0m \u001b[32m70.1/70.1 kB\u001b[0m \u001b[31m3.3 MB/s\u001b[0m eta \u001b[36m0:00:00\u001b[0m\n",
            "\u001b[?25hDownloading pre_commit-4.0.1-py2.py3-none-any.whl (218 kB)\n",
            "\u001b[2K   \u001b[90m━━━━━━━━━━━━━━━━━━━━━━━━━━━━━━━━━━━━━━━━\u001b[0m \u001b[32m218.7/218.7 kB\u001b[0m \u001b[31m8.6 MB/s\u001b[0m eta \u001b[36m0:00:00\u001b[0m\n",
            "\u001b[?25hDownloading cfgv-3.4.0-py2.py3-none-any.whl (7.2 kB)\n",
            "Downloading identify-2.6.3-py2.py3-none-any.whl (99 kB)\n",
            "\u001b[2K   \u001b[90m━━━━━━━━━━━━━━━━━━━━━━━━━━━━━━━━━━━━━━━━\u001b[0m \u001b[32m99.0/99.0 kB\u001b[0m \u001b[31m6.3 MB/s\u001b[0m eta \u001b[36m0:00:00\u001b[0m\n",
            "\u001b[?25hDownloading jiter-0.6.1-cp310-cp310-manylinux_2_17_x86_64.manylinux2014_x86_64.whl (325 kB)\n",
            "\u001b[2K   \u001b[90m━━━━━━━━━━━━━━━━━━━━━━━━━━━━━━━━━━━━━━━━\u001b[0m \u001b[32m325.2/325.2 kB\u001b[0m \u001b[31m17.8 MB/s\u001b[0m eta \u001b[36m0:00:00\u001b[0m\n",
            "\u001b[?25hDownloading nodeenv-1.9.1-py2.py3-none-any.whl (22 kB)\n",
            "Downloading virtualenv-20.28.0-py3-none-any.whl (4.3 MB)\n",
            "\u001b[2K   \u001b[90m━━━━━━━━━━━━━━━━━━━━━━━━━━━━━━━━━━━━━━━━\u001b[0m \u001b[32m4.3/4.3 MB\u001b[0m \u001b[31m69.5 MB/s\u001b[0m eta \u001b[36m0:00:00\u001b[0m\n",
            "\u001b[?25hDownloading distlib-0.3.9-py2.py3-none-any.whl (468 kB)\n",
            "\u001b[2K   \u001b[90m━━━━━━━━━━━━━━━━━━━━━━━━━━━━━━━━━━━━━━━━\u001b[0m \u001b[32m469.0/469.0 kB\u001b[0m \u001b[31m26.9 MB/s\u001b[0m eta \u001b[36m0:00:00\u001b[0m\n",
            "\u001b[?25hBuilding wheels for collected packages: swarm\n",
            "  Building wheel for swarm (pyproject.toml) ... \u001b[?25l\u001b[?25hdone\n",
            "  Created wheel for swarm: filename=swarm-0.1.0-py3-none-any.whl size=25999 sha256=ea063a9ba6c5af853820539b0235add3345e453475bc90dcd56830819af77198\n",
            "  Stored in directory: /tmp/pip-ephem-wheel-cache-zlxd16nh/wheels/46/9a/f7/7b8bbb674ae80ef0f62a632706c2c4cdfcf708e4da32e4e256\n",
            "Successfully built swarm\n",
            "Installing collected packages: distlib, virtualenv, nodeenv, jiter, identify, cfgv, pre-commit, instructor, swarm\n",
            "  Attempting uninstall: jiter\n",
            "    Found existing installation: jiter 0.8.0\n",
            "    Uninstalling jiter-0.8.0:\n",
            "      Successfully uninstalled jiter-0.8.0\n",
            "  Attempting uninstall: swarm\n",
            "    Found existing installation: Swarm 0.0.2\n",
            "    Uninstalling Swarm-0.0.2:\n",
            "      Successfully uninstalled Swarm-0.0.2\n",
            "Successfully installed cfgv-3.4.0 distlib-0.3.9 identify-2.6.3 instructor-1.7.0 jiter-0.6.1 nodeenv-1.9.1 pre-commit-4.0.1 swarm-0.1.0 virtualenv-20.28.0\n"
          ]
        }
      ]
    },
    {
      "cell_type": "markdown",
      "id": "a6e1766b",
      "metadata": {
        "id": "a6e1766b"
      },
      "source": [
        "\n",
        "This example shows two agents, each specialized for a task. You can combine multiple agents to create more adaptive and intelligent workflows.\n"
      ]
    },
    {
      "cell_type": "markdown",
      "id": "6e5f262f",
      "metadata": {
        "id": "6e5f262f"
      },
      "source": [
        "## Part 4: Unified Scenario - Combining RAG, Functional Calling, and Agents"
      ]
    },
    {
      "cell_type": "markdown",
      "source": [
        "# Function Calling\n",
        "\n",
        "Function calling allows Mistral models to connect to external tools. By integrating Mistral models with external tools such as user defined functions or APIs, users can easily build applications catering to specific use cases and practical problems. In this guide, for instance, we wrote two functions for tracking payment status and payment date. We can use these two tools to provide answers for payment-related queries.\n",
        "\n",
        "At a glance, there are four steps with function calling:\n",
        "\n",
        "- User: specify tools and query\n",
        "- Model: Generate function arguments if applicable\n",
        "- User: Execute function to obtain tool results\n",
        "- Model: Generate final answer\n",
        "\n",
        "In this guide, we will walk through a simple example to demonstrate how function calling works with Mistral models in these four steps.\n",
        "\n",
        "Before we get started, let’s assume we have a dataframe consisting of payment transactions. When users ask questions about this dataframe, they can use certain tools to answer questions about this data. This is just an example to emulate an external database that the LLM cannot directly access."
      ],
      "metadata": {
        "id": "fup5mPqmUIn3"
      },
      "id": "fup5mPqmUIn3"
    },
    {
      "cell_type": "code",
      "source": [
        "import pandas as pd\n",
        "\n",
        "# Assuming we have the following data\n",
        "data = {\n",
        "    'transaction_id': ['T1001', 'T1002', 'T1003', 'T1004', 'T1005'],\n",
        "    'customer_id': ['C001', 'C002', 'C003', 'C002', 'C001'],\n",
        "    'payment_amount': [125.50, 89.99, 120.00, 54.30, 210.20],\n",
        "    'payment_date': ['2021-10-05', '2021-10-06', '2021-10-07', '2021-10-05', '2021-10-08'],\n",
        "    'payment_status': ['Paid', 'Unpaid', 'Paid', 'Paid', 'Pending']\n",
        "}\n",
        "\n",
        "# Create DataFrame\n",
        "df = pd.DataFrame(data)"
      ],
      "metadata": {
        "id": "QCxLWzpLUI58"
      },
      "id": "QCxLWzpLUI58",
      "execution_count": 79,
      "outputs": []
    },
    {
      "cell_type": "markdown",
      "source": [
        "## Step 1. User: specify tools and query\n",
        "\n",
        "### Tools\n",
        "\n",
        "Users can define all the necessary tools for their use cases.\n",
        "\n",
        "- In many cases, we might have multiple tools at our disposal. For example, let’s consider we have two functions as our two tools: `retrieve_payment_status` and `retrieve_payment_date` to retrieve payment status and payment date given transaction ID."
      ],
      "metadata": {
        "id": "mrHRBDx6UOXE"
      },
      "id": "mrHRBDx6UOXE"
    },
    {
      "cell_type": "code",
      "source": [
        "def retrieve_payment_status(df: data, transaction_id: str) -> str:\n",
        "    if transaction_id in df.transaction_id.values:\n",
        "        return json.dumps({'status': df[df.transaction_id == transaction_id].payment_status.item()})\n",
        "    return json.dumps({'error': 'transaction id not found.'})\n",
        "\n",
        "def retrieve_payment_date(df: data, transaction_id: str) -> str:\n",
        "    if transaction_id in df.transaction_id.values:\n",
        "        return json.dumps({'date': df[df.transaction_id == transaction_id].payment_date.item()})\n",
        "    return json.dumps({'error': 'transaction id not found.'})"
      ],
      "metadata": {
        "id": "7BsPYHxCUMBx"
      },
      "id": "7BsPYHxCUMBx",
      "execution_count": 80,
      "outputs": []
    },
    {
      "cell_type": "markdown",
      "source": [
        "- In order for Mistral models to understand the functions, we need to outline the function specifications with a JSON schema. Specifically, we need to describe the type, function name, function description, function parameters, and the required parameter for the function. Since we have two functions here, let’s list two function specifications in a list."
      ],
      "metadata": {
        "id": "DHtJBvByUR1t"
      },
      "id": "DHtJBvByUR1t"
    },
    {
      "cell_type": "code",
      "source": [
        "tools = [\n",
        "    {\n",
        "        \"type\": \"function\",\n",
        "        \"function\": {\n",
        "            \"name\": \"retrieve_payment_status\",\n",
        "            \"description\": \"Get payment status of a transaction\",\n",
        "            \"parameters\": {\n",
        "                \"type\": \"object\",\n",
        "                \"properties\": {\n",
        "                    \"transaction_id\": {\n",
        "                        \"type\": \"string\",\n",
        "                        \"description\": \"The transaction id.\",\n",
        "                    }\n",
        "                },\n",
        "                \"required\": [\"transaction_id\"],\n",
        "            },\n",
        "        },\n",
        "    },\n",
        "    {\n",
        "        \"type\": \"function\",\n",
        "        \"function\": {\n",
        "            \"name\": \"retrieve_payment_date\",\n",
        "            \"description\": \"Get payment date of a transaction\",\n",
        "            \"parameters\": {\n",
        "                \"type\": \"object\",\n",
        "                \"properties\": {\n",
        "                    \"transaction_id\": {\n",
        "                        \"type\": \"string\",\n",
        "                        \"description\": \"The transaction id.\",\n",
        "                    }\n",
        "                },\n",
        "                \"required\": [\"transaction_id\"],\n",
        "            },\n",
        "        },\n",
        "    }\n",
        "]\n"
      ],
      "metadata": {
        "id": "yNC7WhIzUP5Y"
      },
      "id": "yNC7WhIzUP5Y",
      "execution_count": 81,
      "outputs": []
    },
    {
      "cell_type": "markdown",
      "source": [
        "- Then we organize the two functions into a dictionary where keys represent the function name, and values are the function with the df defined. This allows us to call each function based on its function name."
      ],
      "metadata": {
        "id": "3vz556_mUVwh"
      },
      "id": "3vz556_mUVwh"
    },
    {
      "cell_type": "code",
      "source": [
        "import functools\n",
        "\n",
        "names_to_functions = {\n",
        "  'retrieve_payment_status': functools.partial(retrieve_payment_status, df=df),\n",
        "  'retrieve_payment_date': functools.partial(retrieve_payment_date, df=df)\n",
        "}"
      ],
      "metadata": {
        "id": "EiKs4pwLUTs-"
      },
      "id": "EiKs4pwLUTs-",
      "execution_count": 82,
      "outputs": []
    },
    {
      "cell_type": "markdown",
      "source": [
        "### User query\n",
        "\n",
        "Suppose a user asks the following question: “What’s the status of my transaction?” A standalone LLM would not be able to answer this question, as it needs to query the business logic backend to access the necessary data. But what if we have an exact tool we can use to answer this question? We could potentially provide an answer!"
      ],
      "metadata": {
        "id": "CAkK-BLPUbQU"
      },
      "id": "CAkK-BLPUbQU"
    },
    {
      "cell_type": "code",
      "source": [
        "messages = [{\"role\": \"user\", \"content\": \"What's the status of my transaction T1001?\"}]"
      ],
      "metadata": {
        "id": "sBQ-FS5YUX6j"
      },
      "id": "sBQ-FS5YUX6j",
      "execution_count": 83,
      "outputs": []
    },
    {
      "cell_type": "markdown",
      "source": [
        "## Step 2. Model: Generate function arguments\n",
        "\n",
        "How do Mistral models know about these functions and know which function to use? We provide both the user query and the tools specifications to Mistral models. The goal in this step is not for the Mistral model to run the function directly. It’s to 1) determine the appropriate function to use , 2) identify if there is any essential information missing for a function, and 3) generate necessary arguments for the chosen function."
      ],
      "metadata": {
        "id": "m35dePOnU52Z"
      },
      "id": "m35dePOnU52Z"
    },
    {
      "cell_type": "code",
      "source": [
        "import os\n",
        "from mistralai import Mistral\n",
        "\n",
        "model = \"mistral-large-latest\"\n",
        "\n",
        "client = Mistral(api_key=api_key)\n",
        "response = client.chat.complete(\n",
        "    model = model,\n",
        "    messages = messages,\n",
        "    tools = tools,\n",
        "    tool_choice = \"any\",\n",
        ")\n",
        "response"
      ],
      "metadata": {
        "colab": {
          "base_uri": "https://localhost:8080/"
        },
        "id": "pfSg5DLNU3-I",
        "outputId": "883f8c80-ba55-4d03-b315-3eb55ae82fca"
      },
      "id": "pfSg5DLNU3-I",
      "execution_count": 85,
      "outputs": [
        {
          "output_type": "execute_result",
          "data": {
            "text/plain": [
              "ChatCompletionResponse(id='8fd95ae1f35a4444a8e15a98decbfc3b', object='chat.completion', model='mistral-large-latest', usage=UsageInfo(prompt_tokens=166, completion_tokens=30, total_tokens=196), created=1733746218, choices=[ChatCompletionChoice(index=0, message=AssistantMessage(content='', tool_calls=[ToolCall(function=FunctionCall(name='retrieve_payment_status', arguments='{\"transaction_id\": \"T1001\"}'), id='JJcKXQ80I', type='function')], prefix=False, role='assistant'), finish_reason='tool_calls')])"
            ]
          },
          "metadata": {},
          "execution_count": 85
        }
      ]
    },
    {
      "cell_type": "code",
      "source": [
        "messages.append(response.choices[0].message)"
      ],
      "metadata": {
        "id": "RWQLKkp0U7yO"
      },
      "id": "RWQLKkp0U7yO",
      "execution_count": 86,
      "outputs": []
    },
    {
      "cell_type": "code",
      "source": [
        "messages"
      ],
      "metadata": {
        "colab": {
          "base_uri": "https://localhost:8080/"
        },
        "id": "UkOyFjYyU_VT",
        "outputId": "0f97d7f7-8cca-4308-ce64-f713a0056777"
      },
      "id": "UkOyFjYyU_VT",
      "execution_count": 87,
      "outputs": [
        {
          "output_type": "execute_result",
          "data": {
            "text/plain": [
              "[{'role': 'user', 'content': \"What's the status of my transaction T1001?\"},\n",
              " AssistantMessage(content='', tool_calls=[ToolCall(function=FunctionCall(name='retrieve_payment_status', arguments='{\"transaction_id\": \"T1001\"}'), id='JJcKXQ80I', type='function')], prefix=False, role='assistant')]"
            ]
          },
          "metadata": {},
          "execution_count": 87
        }
      ]
    },
    {
      "cell_type": "markdown",
      "source": [
        "## Step 3. User: Execute function to obtain tool results\n",
        "\n",
        "How do we execute the function? Currently, it is the user’s responsibility to execute these functions and the function execution lies on the user side. In the future, we may introduce some helpful functions that can be executed server-side.\n",
        "\n",
        "Let’s extract some useful function information from model response including function_name and function_params. It’s clear here that our Mistral model has chosen to use the function `retrieve_payment_status` with the parameter `transaction_id` set to T1001."
      ],
      "metadata": {
        "id": "ecZ1E4tOVEue"
      },
      "id": "ecZ1E4tOVEue"
    },
    {
      "cell_type": "code",
      "source": [
        "import json\n",
        "tool_call = response.choices[0].message.tool_calls[0]\n",
        "function_name = tool_call.function.name\n",
        "function_params = json.loads(tool_call.function.arguments)\n",
        "print(\"\\nfunction_name: \", function_name, \"\\nfunction_params: \", function_params)"
      ],
      "metadata": {
        "colab": {
          "base_uri": "https://localhost:8080/"
        },
        "id": "8oRAPDqSVAsA",
        "outputId": "09971368-33f5-457c-8494-3715dcf80b2f"
      },
      "id": "8oRAPDqSVAsA",
      "execution_count": 88,
      "outputs": [
        {
          "output_type": "stream",
          "name": "stdout",
          "text": [
            "\n",
            "function_name:  retrieve_payment_status \n",
            "function_params:  {'transaction_id': 'T1001'}\n"
          ]
        }
      ]
    },
    {
      "cell_type": "code",
      "source": [
        "function_result = names_to_functions[function_name](**function_params)\n",
        "function_result\n"
      ],
      "metadata": {
        "colab": {
          "base_uri": "https://localhost:8080/",
          "height": 35
        },
        "id": "IsSK0NwJVGnm",
        "outputId": "32087a78-fe25-42e6-bb94-d7c2e69d9aef"
      },
      "id": "IsSK0NwJVGnm",
      "execution_count": 89,
      "outputs": [
        {
          "output_type": "execute_result",
          "data": {
            "text/plain": [
              "'{\"status\": \"Paid\"}'"
            ],
            "application/vnd.google.colaboratory.intrinsic+json": {
              "type": "string"
            }
          },
          "metadata": {},
          "execution_count": 89
        }
      ]
    },
    {
      "cell_type": "code",
      "source": [
        "messages.append({\"role\":\"tool\", \"name\":function_name, \"content\":function_result, \"tool_call_id\":tool_call.id})"
      ],
      "metadata": {
        "id": "Ky_hglePVIDp"
      },
      "id": "Ky_hglePVIDp",
      "execution_count": 90,
      "outputs": []
    },
    {
      "cell_type": "code",
      "source": [
        "messages"
      ],
      "metadata": {
        "colab": {
          "base_uri": "https://localhost:8080/"
        },
        "id": "fMPogOXuVJ0F",
        "outputId": "9d8e203b-9c0a-4fcb-936c-3248cc918410"
      },
      "id": "fMPogOXuVJ0F",
      "execution_count": 91,
      "outputs": [
        {
          "output_type": "execute_result",
          "data": {
            "text/plain": [
              "[{'role': 'user', 'content': \"What's the status of my transaction T1001?\"},\n",
              " AssistantMessage(content='', tool_calls=[ToolCall(function=FunctionCall(name='retrieve_payment_status', arguments='{\"transaction_id\": \"T1001\"}'), id='JJcKXQ80I', type='function')], prefix=False, role='assistant'),\n",
              " {'role': 'tool',\n",
              "  'name': 'retrieve_payment_status',\n",
              "  'content': '{\"status\": \"Paid\"}',\n",
              "  'tool_call_id': 'JJcKXQ80I'}]"
            ]
          },
          "metadata": {},
          "execution_count": 91
        }
      ]
    },
    {
      "cell_type": "markdown",
      "source": [
        "## Step 4. Model: Generate final answer\n",
        "\n",
        "We can now provide the output from the tools to Mistral models, and in return, the Mistral model can produce a customised final response for the specific user."
      ],
      "metadata": {
        "id": "CM13STXzVMfc"
      },
      "id": "CM13STXzVMfc"
    },
    {
      "cell_type": "code",
      "source": [
        "response = client.chat.complete(\n",
        "    model = model,\n",
        "    messages = messages\n",
        ")\n",
        "response.choices[0].message.content"
      ],
      "metadata": {
        "colab": {
          "base_uri": "https://localhost:8080/",
          "height": 35
        },
        "id": "hB3pX4mvVLSo",
        "outputId": "129060fc-62fb-4246-f7e3-4ad17f69f2ae"
      },
      "id": "hB3pX4mvVLSo",
      "execution_count": 92,
      "outputs": [
        {
          "output_type": "execute_result",
          "data": {
            "text/plain": [
              "\"Your transaction T1001 has been successfully processed and the status is 'Paid'. Is there anything else you need help with?\""
            ],
            "application/vnd.google.colaboratory.intrinsic+json": {
              "type": "string"
            }
          },
          "metadata": {},
          "execution_count": 92
        }
      ]
    }
  ],
  "metadata": {
    "colab": {
      "provenance": []
    },
    "language_info": {
      "name": "python"
    },
    "kernelspec": {
      "name": "python3",
      "display_name": "Python 3"
    }
  },
  "nbformat": 4,
  "nbformat_minor": 5
}